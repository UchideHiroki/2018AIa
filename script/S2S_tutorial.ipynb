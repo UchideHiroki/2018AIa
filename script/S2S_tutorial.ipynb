{
 "cells": [
  {
   "cell_type": "markdown",
   "metadata": {},
   "source": [
    "最近チュートリアルの写経ばっかしている気がする  \n",
    "というか技術のキャッチアップに手一杯で、それを使って応用するところまでいけてない  \n",
    "今回はちゃんと応用まで頑張る  \n",
    "参考URL  \n",
    "https://pytorch.org/tutorials/intermediate/seq2seq_translation_tutorial.html"
   ]
  },
  {
   "cell_type": "markdown",
   "metadata": {},
   "source": [
    "ここから下は上から実行しても動かない"
   ]
  },
  {
   "cell_type": "code",
   "execution_count": 204,
   "metadata": {},
   "outputs": [
    {
     "name": "stdout",
     "output_type": "stream",
     "text": [
      "torch.Size([2, 1, 2]) torch.Size([2, 2])\n"
     ]
    }
   ],
   "source": [
    "# unsqueezeの挙動確認\n",
    "a = torch.LongTensor([[1,2],[3,4]])\n",
    "b = torch.LongTensor([8,6,4,2])\n",
    "print(a.unsqueeze(1).shape, a.shape)"
   ]
  },
  {
   "cell_type": "code",
   "execution_count": 246,
   "metadata": {},
   "outputs": [
    {
     "data": {
      "text/plain": [
       "torch.Size([1, 1, 250])"
      ]
     },
     "execution_count": 246,
     "metadata": {},
     "output_type": "execute_result"
    }
   ],
   "source": [
    "# torch.bmm(内積)の挙動確認\n",
    "# batch1, batch2が3D tensorじゃないといけないらしい\n",
    "# batch1のx軸とbatch2のx軸が等しくて(バッチサイズが等しい)\n",
    "# batch1のz軸とbatch2のy軸が等しい()\n",
    "batch1 = torch.randn(1, 10).unsqueeze(0)\n",
    "batch2 = torch.randn(10, 250).unsqueeze(0)\n",
    "res = torch.bmm(batch1, batch2)\n",
    "res.size()"
   ]
  },
  {
   "cell_type": "code",
   "execution_count": 140,
   "metadata": {},
   "outputs": [
    {
     "name": "stdout",
     "output_type": "stream",
     "text": [
      "tensor([  0,   1,   2,   1,   3,  99])\n",
      "tensor([[ 0.2488,  0.6202]])\n",
      "tensor([[ 0.2488,  0.6202],\n",
      "        [ 0.4242, -0.2133],\n",
      "        [ 0.5858,  0.3303],\n",
      "        [ 0.4242, -0.2133],\n",
      "        [-0.5191,  1.4689],\n",
      "        [ 0.1559, -1.0353]])\n"
     ]
    }
   ],
   "source": [
    "## Embeddingレイヤーの挙動確認\n",
    "# output_size:2, hidden_size:3\n",
    "embedding = nn.Embedding(100, 2)\n",
    "# batch of 2 samples of 4 indices each\n",
    "input = torch.LongTensor([0, 1,2,1,3, 99])\n",
    "print(input)\n",
    "print(embedding(torch.LongTensor([0])))\n",
    "print(embedding(input))"
   ]
  },
  {
   "cell_type": "code",
   "execution_count": 144,
   "metadata": {},
   "outputs": [
    {
     "name": "stdout",
     "output_type": "stream",
     "text": [
      "tensor([[ 0.3281,  1.0892],\n",
      "        [-1.3661,  1.6202],\n",
      "        [ 0.3010, -0.1736],\n",
      "        [ 0.6398,  0.9291],\n",
      "        [ 3.7034,  0.4369]])\n",
      "tensor([[ 0.0000,  1.3615],\n",
      "        [-1.7076,  2.0253],\n",
      "        [ 0.3762, -0.2170],\n",
      "        [ 0.0000,  1.1613],\n",
      "        [ 4.6292,  0.5461]])\n"
     ]
    }
   ],
   "source": [
    "## Dropoutレイヤーの挙動確認\n",
    "m = nn.Dropout(p=0.2)\n",
    "input = torch.randn(5, 2)\n",
    "print(input)\n",
    "print(m(input))"
   ]
  },
  {
   "cell_type": "markdown",
   "metadata": {},
   "source": [
    "ここまで"
   ]
  },
  {
   "cell_type": "markdown",
   "metadata": {},
   "source": [
    "input: フランス語の文章  \n",
    "output: 英語の文章  \n",
    "\n",
    "Encoder(GRU)  \n",
    "1時点に対して1単語ずつ入力  \n",
    "各時点で出力と隠れ層が出てくる  \n",
    "文章を最後まで入れ終えると、終わり  \n",
    "各時点の隠れ層を使用する  \n",
    "\n",
    "Decoder(GRU + Attention)  \n",
    "まずスタートの記号、Encoderの最後の隠れ層をAttentionに入力  \n",
    "Attention_weightが出てくる  \n",
    "それとencoder_outputsの内積をとる→Weighted sumを計算  \n",
    "weighetd_sumを少し加工して、prev_hiddenと一緒にGRUに入れる  \n",
    "GRUが(1, hidden_size)のベクトルを返す(outputであり、hiddenでもある)  \n",
    "outputの一番高いベクトル"
   ]
  },
  {
   "cell_type": "code",
   "execution_count": 1,
   "metadata": {},
   "outputs": [],
   "source": [
    "from io import open\n",
    "import unicodedata\n",
    "import string\n",
    "import re\n",
    "import random\n",
    "\n",
    "import torch\n",
    "import torch.nn as nn\n",
    "from torch import optim\n",
    "import torch.nn.functional as F"
   ]
  },
  {
   "cell_type": "code",
   "execution_count": 2,
   "metadata": {},
   "outputs": [],
   "source": [
    "from collections import defaultdict"
   ]
  },
  {
   "cell_type": "code",
   "execution_count": 3,
   "metadata": {},
   "outputs": [],
   "source": [
    "device = torch.device(\"cuda\" if torch.cuda.is_available() else \"cpu\")"
   ]
  },
  {
   "cell_type": "code",
   "execution_count": 4,
   "metadata": {},
   "outputs": [
    {
     "data": {
      "text/plain": [
       "device(type='cuda')"
      ]
     },
     "execution_count": 4,
     "metadata": {},
     "output_type": "execute_result"
    }
   ],
   "source": [
    "device"
   ]
  },
  {
   "cell_type": "code",
   "execution_count": 5,
   "metadata": {},
   "outputs": [],
   "source": [
    "SOS_token = 0\n",
    "EOS_token = 1"
   ]
  },
  {
   "cell_type": "markdown",
   "metadata": {},
   "source": [
    "SOS: 文章の始まり    \n",
    "EOS: 文章の終わり  "
   ]
  },
  {
   "cell_type": "code",
   "execution_count": 6,
   "metadata": {},
   "outputs": [],
   "source": [
    "class Lang:\n",
    "    def __init__(self, name):\n",
    "        self.name = name\n",
    "        self.word2index = defaultdict(int)\n",
    "        self.word2count = defaultdict(int)\n",
    "        self.index2word = {0: \"SOS\", 1: \"EOS\"}\n",
    "        self.n_words = 2 # count SOS and EOS\n",
    "        \n",
    "    def addSentence(self, sentence):\n",
    "        for word in sentence.split((' ')):\n",
    "            self.addWord(word)\n",
    "            \n",
    "    def addWord(self, word):\n",
    "        if word not in self.word2index:\n",
    "            self.word2index[word] = self.n_words\n",
    "            self.word2count[word] += 1\n",
    "            self.index2word[self.n_words] = word\n",
    "            self.n_words += 1\n",
    "        else:\n",
    "            self.word2count[word] += 1"
   ]
  },
  {
   "cell_type": "code",
   "execution_count": 7,
   "metadata": {},
   "outputs": [],
   "source": [
    "def unicodeToAscii(s):\n",
    "    return ''.join(\n",
    "        c for c in unicodedata.normalize('NFD', s)\n",
    "        if unicodedata.category(c) != 'Mn'\n",
    "    )\n",
    "\n",
    "# Lowercase, trim, and remoce non-letter characters\n",
    "\n",
    "\n",
    "def normalizeString(s):\n",
    "    s = unicodeToAscii(s.lower().strip())\n",
    "    s = re.sub(r\"([.!?])\", r\" \\1\", s)\n",
    "    s = re.sub(r\"[^a-zA-Z.!?]+\", r\" \", s)\n",
    "    return s"
   ]
  },
  {
   "cell_type": "code",
   "execution_count": 11,
   "metadata": {},
   "outputs": [],
   "source": [
    "def readLangs(lang1, lang2, reverse=False):\n",
    "    print(\"Reading lines...\")\n",
    "    \n",
    "    # Read the file and split into lines\n",
    "    lines = open('../input/%s-%s.txt' % (lang1, lang2), encoding='utf-8').\\\n",
    "        read().strip().split('\\n')\n",
    "    \n",
    "    # Split every line into pairs and normalize\n",
    "    pairs = [[normalizeString(s) for s in l.split('\\t')] for l in lines]\n",
    "    \n",
    "    # Reverse pairs, make Lang instances\n",
    "    if reverse:\n",
    "        pairs = [list(reversed(p)) for p in pairs]\n",
    "        input_lang = Lang(lang2)\n",
    "        output_lang = Lang(lang1)\n",
    "    else:\n",
    "        input_lang = Lang(lang1)\n",
    "        output_lang = Lang(lang2)\n",
    "    \n",
    "    return input_lang, output_lang, pairs"
   ]
  },
  {
   "cell_type": "code",
   "execution_count": 12,
   "metadata": {},
   "outputs": [],
   "source": [
    "MAX_LENGTH = 10\n",
    "\n",
    "eng_prefixes = (\n",
    "    \"i am \", \"i m\",\n",
    "    \"he is\", \"he s\",\n",
    "    \"she is\", \"she s\",\n",
    "    \"you are\", \"we re \",\n",
    "    \"they are\", \"they re \"\n",
    ")\n",
    "\n",
    "def filterPair(p):\n",
    "    return len(p[0].split(' ')) < MAX_LENGTH and \\\n",
    "                len(p[1].split(' ')) < MAX_LENGTH and \\\n",
    "                p[1].startswith(eng_prefixes)\n",
    "        \n",
    "\n",
    "def filterPairs(pairs):\n",
    "    return [pair for pair in pairs if filterPair(pair)]"
   ]
  },
  {
   "cell_type": "code",
   "execution_count": 13,
   "metadata": {},
   "outputs": [
    {
     "name": "stdout",
     "output_type": "stream",
     "text": [
      "Reading lines...\n",
      "Read 135842 sentence pairs\n",
      "Counted words:\n",
      "fra 4315\n",
      "eng 3037\n",
      "['il n est pas ce qu il semble .', 'he is not what he seems .']\n"
     ]
    }
   ],
   "source": [
    "def prepareData(lang1, lang2, reverse=False):\n",
    "    input_lang, output_lang, pairs = readLangs(lang1, lang2, reverse)\n",
    "    print(\"Read %s sentence pairs\" % len(pairs))\n",
    "    pairs = filterPairs(pairs)\n",
    "    for pair in pairs:\n",
    "        input_lang.addSentence(pair[0])\n",
    "        output_lang.addSentence(pair[1])\n",
    "    print(\"Counted words:\")\n",
    "    print(input_lang.name, input_lang.n_words)\n",
    "    print(output_lang.name, output_lang.n_words)\n",
    "    return input_lang, output_lang, pairs\n",
    "\n",
    "\n",
    "input_lang, output_lang, pairs = prepareData(\"eng\", 'fra', True)\n",
    "print(random.choice(pairs))"
   ]
  },
  {
   "cell_type": "markdown",
   "metadata": {},
   "source": [
    "The SEQ2SEQ Model"
   ]
  },
  {
   "cell_type": "code",
   "execution_count": 14,
   "metadata": {},
   "outputs": [],
   "source": [
    "class EncoderRNN(nn.Module):\n",
    "    def __init__(self, input_size, hiden_size):\n",
    "        super(EncoderRNN, self).__init__()\n",
    "        self.hidden_size = hidden_size\n",
    "        \n",
    "        ## embedding: 今回は、wordに割り振った数字をベクトル化して格納するために使う\n",
    "        # 任意のintが格納されたtorch.LongTensorを入れると、ユニークなベクトルを返す\n",
    "        # 特にパラメータは存在しない\n",
    "        # input_size: 語彙数、格納予定の数字の最大値+1(pythonは0から数え始める)\n",
    "        # hidden_size: 各数字を何次元のベクトルで保存するか\n",
    "        self.embedding = nn.Embedding(input_size, hidden_size)\n",
    "        # input_size: hidden_size\n",
    "        # hidden_size: hidden_size\n",
    "        # num_layers: 1(多分、default、何層GRUを積み重ねるか)\n",
    "        self.gru = nn.GRU(hidden_size, hidden_size)\n",
    "        \n",
    "    def forward(self, input, hidden):\n",
    "        embedded = self.embedding(input).view(1, 1, -1)\n",
    "        output = embedded\n",
    "        ## hidden: encoderの最終層の隠れ層\n",
    "        # (num_layes(多分1)*num_directions(多分1), batch(1), hidden_size(今回は256))\n",
    "        # output: (seq_len(今回は1), batch(今回は1), num_directions*hidden_size)\n",
    "        # 今回はnum_directionsとnum_layersをいじらないので、outputとhiddenは一緒になるはず\n",
    "        output, hidden = self.gru(output, hidden)\n",
    "        return output, hidden\n",
    "    \n",
    "    def initHidden(self):\n",
    "        return torch.zeros(1, 1, self.hidden_size, device=device)"
   ]
  },
  {
   "cell_type": "code",
   "execution_count": 15,
   "metadata": {},
   "outputs": [],
   "source": [
    "class DecoderRNN(nn.Module):\n",
    "    def __init__(self, hidden_size, output_size):\n",
    "        super(DecoderRNN, self).__init__()\n",
    "        self.hidden_size= hidden_size\n",
    "        \n",
    "        self.embedding = nn.Embedding(output_size, hidden_size)\n",
    "        self.gru = nn.GRU(hidden_size, hidden_size)\n",
    "        self.out = nn.Linear(hidden_size, output_size)\n",
    "        self.softmax = nn.LogSoftmax(dim=1)\n",
    "    \n",
    "    def forward(self, input, hidden):\n",
    "        output = self.embedding(input).view(1, 1, -1)\n",
    "        output = F.relu(output)\n",
    "        output, hidden = self.gru(output, hidden)\n",
    "        output = self.softmax(self.out(output[0]))\n",
    "        return output, hidden\n",
    "    \n",
    "    def initHidden(self):\n",
    "        return torch.zeros(1, 1, self.hidden_size, device=device)"
   ]
  },
  {
   "cell_type": "code",
   "execution_count": 16,
   "metadata": {},
   "outputs": [],
   "source": [
    "class AttnDecoderRNN(nn.Module):\n",
    "    def __init__(self, hidden_size, output_size, dropout_p=0.1,\n",
    "                 max_length=MAX_LENGTH):\n",
    "        super(AttnDecoderRNN, self).__init__()\n",
    "        self.hidden_size = hidden_size\n",
    "        self.output_size = output_size\n",
    "        self.dropout_p = dropout_p\n",
    "        self.max_length = max_length\n",
    "        \n",
    "        self.embedding = nn.Embedding(self.output_size, self.hidden_size)\n",
    "        # [embedded, prev_hidden]と横に繋げてLinearに噛ませる\n",
    "        # Linearはout_dim×in_dimの係数行列 + out_dim行バイアスb\n",
    "        # Feed-Forward(全結合層)という理解でOK\n",
    "        # y = x A_t + b\n",
    "        # Linearの出力は長さmax_length(今回考慮する文章の最大長さ)\n",
    "        self.attn = nn.Linear(self.hidden_size * 2, self.max_length)\n",
    "        self.attn_combine = nn.Linear(self.hidden_size * 2, self.hidden_size)\n",
    "        self.dropout = nn.Dropout(self.dropout_p)\n",
    "        self.gru = nn.GRU(self.hidden_size, self.hidden_size)\n",
    "        # 今回はoutput_size=hidden_size\n",
    "        # embeddingでベクトル化したinput単語の次元数と揃える\n",
    "        self.out = nn.Linear(self.hidden_size, self.output_size)\n",
    "        \n",
    "    def forward(self, input, hidden, encoder_outputs):\n",
    "        embedded = self.embedding(input).view(1, 1, -1)\n",
    "        embedded = self.dropout(embedded)\n",
    "        \n",
    "        attn_weights = F.softmax(\n",
    "            # [embedded, prev_hidden]と横に繋げてLinearに噛ませる\n",
    "            # embedded[0]はinput(int)をベクトル化して(1,1,hidden_size)にして[0]にしたもの\n",
    "            # (1,hidden_size)\n",
    "            # prev_hiddenは(1, 1, hidden_size), [0]をとるので(1, hidden_size)になる\n",
    "            # catは結合なので、入力は(1, hidden_size*2)\n",
    "            # attn_weightsは(1, hidden_size)を入力にとる\n",
    "            # attn_weightsの出力は(1, max_length)\n",
    "            # attn_weightsは正負両方の値をもつ\n",
    "            # softmaxを列方向にとって、正規化する\n",
    "            # attn_weightsはゼロからディープでいうattention weightsの役割\n",
    "            # ゼロからディープと少し実装が異なる\n",
    "            self.attn(torch.cat((embedded[0], hidden[0]), 1)), dim=1)\n",
    "        # attn_weights: (1, max_length)にunsqueeze(0)で先頭に1次元増やす\n",
    "        # encoder_outputs: (max_len, hidden_size)にunsqueeze\n",
    "        # bmmはembedded(を元に作ったattn_weight)とencoder_outputsの内積をとる\n",
    "        # ベクトルの形を見る限り、attn_appliedはcontextベクトル\n",
    "        # ゼロからディープは内積をとったものをattention weightとしているが、\n",
    "        # この実装では内積をとったものをweighted sumにしている\n",
    "        # つまり、input sequenceの特定の箇所の情報を保持し、\n",
    "        # decoderが正しい出力単語を選ぶ手助けをする\n",
    "        attn_applied = torch.bmm(attn_weights.unsqueeze(0),\n",
    "                                encoder_outputs.unsqueeze(0))\n",
    "        \n",
    "        # prev_hiddenとattn_appliedを合体させる\n",
    "        # embedded[0]: (1, 1, hidden_size)の[0]なので(1, hidden_size)\n",
    "        # attn_applied[0]: (1, 1, hidden_size)の[0]なので(1, hidden_size)\n",
    "        output = torch.cat((embedded[0], attn_applied[0]), 1)\n",
    "        # attn_combineは(1, hidden_size)を返す\n",
    "        output = self.attn_combine(output).unsqueeze(0)\n",
    "        # ここでreluを入れるということは、\n",
    "        # embedded→attn_weights→attn_applied→attn_combine(→relu)\n",
    "        # までの一連の流れが\"Attentionレイヤー\"という意味を表す、多分\n",
    "        output = F.relu(output)\n",
    "        # GRUに、Attentionを噛ませたinputとprev_hiddenを入れる\n",
    "        # output: (1, hidden_size)\n",
    "        # hidden: (1, hidden_size)\n",
    "        output, hidden = self.gru(output, hidden)\n",
    "        \n",
    "        # outはLinear, (1, 1, hidden_size)の[0]なので、(1, hidden_size)を入力して\n",
    "        # (1, n_words)のOne-hot-vectorを返す\n",
    "        # 最終的な出力単語は、One-hot-vectorの一番値が高い次元のidを選択\n",
    "        output = F.log_softmax(self.out(output[0]), dim=1)\n",
    "        return output, hidden, attn_weights\n",
    "    \n",
    "    def initHidden(self):\n",
    "        return torch.zeros(1, 1, self.hidden_size, device=device)"
   ]
  },
  {
   "cell_type": "code",
   "execution_count": 17,
   "metadata": {},
   "outputs": [],
   "source": [
    "def indexesFromSentence(lang, sentence):\n",
    "    # 半角空白で繋がった文章strを分割して単語のlistにして、単語をindex(int)に変換する\n",
    "    # 返すのはintが並んだlist\n",
    "    return [lang.word2index[word] for word in sentence.split(' ')]\n",
    "\n",
    "\n",
    "def tensorFromSentence(lang, sentence):\n",
    "    # 半角空白で繋がった文章strを、(単語数+1, 1)のindex tensorに変換する\n",
    "    # index tensor: (文章内単語数, 1)の2次元ベクトル\n",
    "    indexes = indexesFromSentence(lang, sentence)\n",
    "    indexes.append(EOS_token) # EOS_token: 1(int)\n",
    "    return torch.tensor(indexes, dtype=torch.long, device=device).view(-1, 1)\n",
    "\n",
    "\n",
    "def tensorsFromPair(pair):\n",
    "    # (フラ語文章, 英語文章)を(フラ語indextensor, 英語indextensor)に変換する\n",
    "    input_tensor = tensorFromSentence(input_lang, pair[0])\n",
    "    target_tensor = tensorFromSentence(output_lang, pair[1])\n",
    "    return (input_tensor, target_tensor)"
   ]
  },
  {
   "cell_type": "markdown",
   "metadata": {},
   "source": [
    "Training the Model"
   ]
  },
  {
   "cell_type": "markdown",
   "metadata": {},
   "source": [
    "\"Teacher forcing\": Decoderの<SOS>以降の入力を、Decoderの出力ではなく教師データを与える手法  \n",
    "学習が早くなるが、推論時の結果が不安定になる場合もある"
   ]
  },
  {
   "cell_type": "code",
   "execution_count": 18,
   "metadata": {},
   "outputs": [],
   "source": [
    "teacher_forcing_ratio = 0.5\n",
    "\n",
    "def train(input_tensor, target_tensor, encoder, decoder,\n",
    "          encoder_optimizer, decoder_optimizer, criterion, \n",
    "          max_length=MAX_LENGTH):\n",
    "    encoder_hidden = encoder.initHidden()\n",
    "    \n",
    "    encoder_optimizer.zero_grad()\n",
    "    decoder_optimizer.zero_grad()\n",
    "    \n",
    "    input_length = input_tensor.size(0) # 文章の長さ\n",
    "    target_length = target_tensor.size(0)\n",
    "    # encoderの出力を格納するベクトルを作っておく\n",
    "    # 型は(max_length, hidden_size)で、恐らく\n",
    "    # encoder_outputs[0]から順に(hidden_size,)の1次元ベクトルを格納\n",
    "    # encodeがmax_lengthに満たない場合は残りは全て0のまま\n",
    "    encoder_outputs = torch.zeros(max_length, encoder.hidden_size, \n",
    "                                  device=device)\n",
    "    \n",
    "    loss = 0\n",
    "    \n",
    "    # 入力文章の1単語毎にループ\n",
    "    for ei in range(input_length):\n",
    "        encoder_output, encoder_hidden = encoder(\n",
    "            input_tensor[ei], encoder_hidden)\n",
    "        # encoder_output[0,0]: (hidden_size, )の長い1次元ベクトル\n",
    "        encoder_outputs[ei] = encoder_output[0, 0]\n",
    "    \n",
    "    # デコーダーの最初のinputを定義\n",
    "    decoder_input = torch.tensor([[SOS_token]], device=device)\n",
    "    \n",
    "    decoder_hidden = encoder_hidden\n",
    "    \n",
    "    use_teacher_forcing = True if random.random() < teacher_forcing_ratio else False\n",
    "    \n",
    "    if use_teacher_forcing:\n",
    "        # Teacher forcing: Feed the target as the next input\n",
    "        # Targetとなる文章を1単語ずつ入力していく\n",
    "        # 入力した次の単語が出力されているかlossを計算\n",
    "        # Targetの単語数分入力をしたら終了\n",
    "        for di in range(target_length):\n",
    "            decoder_output, decoder_hidden, decoder_attention = decoder(\n",
    "                decoder_input, decoder_hidden, encoder_outputs)\n",
    "            # decoder_outputである単語idが、target_tensor[di]の単語idと一致するかを見る\n",
    "            # 多クラス分類問題\n",
    "            loss += criterion(decoder_output, target_tensor[di])\n",
    "            decoder_input = target_tensor[di] # Tensor forcing\n",
    "    else:\n",
    "        # Without teacher forcing: use its own predictions as the next input\n",
    "        for di in range(target_length):\n",
    "            decoder_output, decoder_hiddden, decoder_attention = decoder(\n",
    "                decoder_input, decoder_hidden, encoder_outputs)\n",
    "            # topk: ベクトルの最も大きい要素のvalueと、その値のindexを返す\n",
    "            # decoder_outputは(1, n_words)のOne-hot-vector\n",
    "            # 列の次元数がinputの単語のidと結びついている\n",
    "            # はちゃめちゃなidを返すと次回以降の損失が膨らみ、\n",
    "            # 正しいidを返すと次回以降の損失が抑えられるので、\n",
    "            # そうなるように学習をさせる\n",
    "            topv, topi = decoder_output.topk(1)\n",
    "            # detach: 勾配を計算するグラフから明示的に演算を切り離す\n",
    "            # pytorchは自動的に全てのtensor演算を記録している\n",
    "            # detachは無くても良いが、つけたほうが計算が高速になるらしい\n",
    "            # squeeze()は次元を消す、引数を指定しないと、1次元ベクトルにする\n",
    "            decoder_input = topi.squeeze().detach() # detach from histrory as input\n",
    "            \n",
    "            # decoder_outputは予測した単語id\n",
    "            # target_tensor[di]は、output_langのembeddingでテンソル化した単語\n",
    "            # target_tensorは英語の文章の単語idを並べた(文章内単語数, 1)の2次元ベクトル\n",
    "            # target_tensor[di]は予測で出てきてほしい単語id(int)\n",
    "            loss += criterion(decoder_output, target_tensor[di])\n",
    "            if decoder_input.item() == EOS_token:\n",
    "                break\n",
    "    \n",
    "    loss.backward()\n",
    "    \n",
    "    encoder_optimizer.step() # たしか、勾配の値を元にパラメータを更新する\n",
    "    decoder_optimizer.step()\n",
    "    \n",
    "    return loss.item() / target_length"
   ]
  },
  {
   "cell_type": "code",
   "execution_count": 19,
   "metadata": {},
   "outputs": [],
   "source": [
    "import time\n",
    "import math\n",
    "\n",
    "def asMinutes(s):\n",
    "    m = math.floor(s / 60)\n",
    "    s -= m * 60\n",
    "    return '%dm %ds' % (m, s)\n",
    "\n",
    "def timeSince(since, percent):\n",
    "    now = time.time()\n",
    "    s = now - since\n",
    "    es = s / (percent)\n",
    "    rs = es - s\n",
    "    return '%s (- %s)' % (asMinutes(s), asMinutes(rs))"
   ]
  },
  {
   "cell_type": "code",
   "execution_count": 20,
   "metadata": {},
   "outputs": [],
   "source": [
    "def trainIters(encoder, decoder, n_iters, print_every=1000, \n",
    "               plot_every=100, learning_rate=0.01):\n",
    "    start = time.time()\n",
    "    plot_losses = []\n",
    "    print_loss_total = 0 # Reset every print_every\n",
    "    plot_loss_total = 0 # Reset every plot_every\n",
    "    \n",
    "    encoder_optimizer = optim.SGD(encoder.parameters(), lr=learning_rate)\n",
    "    decoder_optimizer = optim.SGD(decoder.parameters(), lr=learning_rate)\n",
    "    # 学習のiter数だけランダムにpairs([フラ語str, 英語str]のペアがたくさん入ったlist)から\n",
    "    # pairを取り出して、tensorにしたリスト\n",
    "    training_pairs = [tensorsFromPair(random.choice(pairs)) for i in range(n_iters)]\n",
    "    criterion = nn.NLLLoss() # 多クラス分類?\n",
    "    \n",
    "    for iter in range(1, n_iters + 1):\n",
    "        training_pair = training_pairs[iter - 1]\n",
    "        input_tensor = training_pair[0]\n",
    "        target_tensor = training_pair[1]\n",
    "        \n",
    "        loss = train(input_tensor, target_tensor, encoder,\n",
    "                    decoder, encoder_optimizer, decoder_optimizer, criterion)\n",
    "        print_loss_total += loss\n",
    "        plot_loss_total += loss\n",
    "        \n",
    "        if iter % print_every == 0:\n",
    "            print_loss_avg = print_loss_total / print_every\n",
    "            print_loss_total = 0\n",
    "            print('%s (%d %d%%) %.4f' % (timeSince(start, iter / n_iters), \n",
    "                                        iter, iter / n_iters * 100, print_loss_avg))\n",
    "            \n",
    "        if iter % plot_every == 0:\n",
    "            plot_loss_avg = plot_loss_total / plot_every\n",
    "            plot_losses.append(plot_loss_avg)\n",
    "            plot_loss_total = 0\n",
    "            \n",
    "    showPlot(plot_losses)"
   ]
  },
  {
   "cell_type": "code",
   "execution_count": 26,
   "metadata": {},
   "outputs": [],
   "source": [
    "import matplotlib.pyplot as plt\n",
    "plt.switch_backend('agg')\n",
    "import matplotlib.ticker as ticker\n",
    "import numpy as np\n",
    "\n",
    "\n",
    "def showPlot(points):\n",
    "    plt.figure()\n",
    "    fig, ax = plt.subplots()\n",
    "    # this locator puts tickes at regular intervals\n",
    "    loc = ticker.MultipleLocator(base=0.2)\n",
    "    ax.yaxis.set_major_locator(loc)\n",
    "    plt.plot(points)"
   ]
  },
  {
   "cell_type": "markdown",
   "metadata": {},
   "source": [
    "EVALUATION"
   ]
  },
  {
   "cell_type": "code",
   "execution_count": 27,
   "metadata": {},
   "outputs": [],
   "source": [
    "def evaluate(encoder, decoder, sentence, max_length= MAX_LENGTH):\n",
    "    # no_gradしている間は勾配計算を行わない\n",
    "    # つまり、不必要な計算グラフ、パラメータを保持しないので、メモリ節約になる\n",
    "    with torch.no_grad():\n",
    "        input_tensor = tensorFromSentence(input_lang, sentence)\n",
    "        input_length = input_tensor.size()[0]\n",
    "        encoder_hidden = encoder.initHidden()\n",
    "        \n",
    "        encoder_outputs = torch.zeros(max_length, encoder.hidden_size, \n",
    "                                      device=device)\n",
    "        \n",
    "        for ei in range(input_length):\n",
    "            encoder_output, encoder_hidden = encoder(input_tensor[ei], \n",
    "                                                     encoder_hidden)\n",
    "            encoder_outputs[ei] += encoder_output[0, 0]\n",
    "        \n",
    "        decoder_input = torch.tensor([[SOS_token]], device=device)\n",
    "        \n",
    "        decoder_hidden = encoder_hidden\n",
    "        \n",
    "        decoded_words = []\n",
    "        decoder_attentions = torch.zeros(max_length, max_length)\n",
    "        \n",
    "        for di in range(max_length):\n",
    "            decoder_output, decoder_hidden, decoder_attention = decoder(\n",
    "                decoder_input, decoder_hidden, encoder_outputs)\n",
    "            # decoder_attentionはattntion_weightsを返している\n",
    "            # decoder_attention.dataが何を表すのか調査、恐らく重みベクトル\n",
    "            decoder_attentions[di] = decoder_attention.data\n",
    "            topv, topi = decoder_output.data.topk(1)\n",
    "            # 文章終了の合図が出たら終わり\n",
    "            if topi.item() == EOS_token:\n",
    "                decoded_words.append('<EOS>')\n",
    "                break\n",
    "            # そうでなければ、単語を格納\n",
    "            else:\n",
    "                decoded_words.append(output_lang.index2word[topi.item()])\n",
    "            \n",
    "            decoder_input = topi.squeeze().detach()\n",
    "            \n",
    "        return decoded_words, decoder_attentions[:di + 1]"
   ]
  },
  {
   "cell_type": "code",
   "execution_count": 29,
   "metadata": {},
   "outputs": [],
   "source": [
    "def evaluateRandomly(encoder, decoder, n=10):\n",
    "    for i in range(n):\n",
    "        pair = random.choice(pairs)\n",
    "        print('>', pair[0])\n",
    "        print('=', pair[1])\n",
    "        output_words, attentions = evaluate(encoder, decoder, pair[0])\n",
    "        output_sentence = ' '.join(output_words)\n",
    "        print('<', output_sentence)\n",
    "        print('')"
   ]
  },
  {
   "cell_type": "code",
   "execution_count": 24,
   "metadata": {
    "scrolled": true
   },
   "outputs": [
    {
     "name": "stdout",
     "output_type": "stream",
     "text": [
      "2m 41s (- 37m 42s) (5000 6%) 2.9904\n",
      "5m 15s (- 34m 11s) (10000 13%) 2.3835\n",
      "7m 50s (- 31m 21s) (15000 20%) 2.0631\n",
      "10m 24s (- 28m 38s) (20000 26%) 1.8198\n",
      "13m 0s (- 26m 0s) (25000 33%) 1.6234\n",
      "15m 35s (- 23m 23s) (30000 40%) 1.4727\n",
      "18m 12s (- 20m 49s) (35000 46%) 1.3267\n",
      "20m 50s (- 18m 13s) (40000 53%) 1.2013\n",
      "23m 28s (- 15m 39s) (45000 60%) 1.0825\n",
      "26m 7s (- 13m 3s) (50000 66%) 1.0188\n",
      "28m 46s (- 10m 27s) (55000 73%) 0.9322\n",
      "31m 24s (- 7m 51s) (60000 80%) 0.8761\n",
      "34m 3s (- 5m 14s) (65000 86%) 0.7947\n",
      "36m 42s (- 2m 37s) (70000 93%) 0.7598\n",
      "39m 23s (- 0m 0s) (75000 100%) 0.7059\n"
     ]
    },
    {
     "ename": "TypeError",
     "evalue": "__init__() got an unexpected keyword argument 'bas'",
     "output_type": "error",
     "traceback": [
      "\u001b[0;31m---------------------------------------------------------------------------\u001b[0m",
      "\u001b[0;31mTypeError\u001b[0m                                 Traceback (most recent call last)",
      "\u001b[0;32m<ipython-input-24-7ea4b06f8a39>\u001b[0m in \u001b[0;36m<module>\u001b[0;34m()\u001b[0m\n\u001b[1;32m      3\u001b[0m \u001b[0mattn_decoder1\u001b[0m \u001b[0;34m=\u001b[0m \u001b[0mAttnDecoderRNN\u001b[0m\u001b[0;34m(\u001b[0m\u001b[0mhidden_size\u001b[0m\u001b[0;34m,\u001b[0m \u001b[0moutput_lang\u001b[0m\u001b[0;34m.\u001b[0m\u001b[0mn_words\u001b[0m\u001b[0;34m,\u001b[0m \u001b[0mdropout_p\u001b[0m\u001b[0;34m=\u001b[0m\u001b[0;36m0.1\u001b[0m\u001b[0;34m)\u001b[0m\u001b[0;34m.\u001b[0m\u001b[0mto\u001b[0m\u001b[0;34m(\u001b[0m\u001b[0mdevice\u001b[0m\u001b[0;34m)\u001b[0m\u001b[0;34m\u001b[0m\u001b[0m\n\u001b[1;32m      4\u001b[0m \u001b[0;34m\u001b[0m\u001b[0m\n\u001b[0;32m----> 5\u001b[0;31m \u001b[0mtrainIters\u001b[0m\u001b[0;34m(\u001b[0m\u001b[0mencoder1\u001b[0m\u001b[0;34m,\u001b[0m \u001b[0mattn_decoder1\u001b[0m\u001b[0;34m,\u001b[0m \u001b[0;36m75000\u001b[0m\u001b[0;34m,\u001b[0m \u001b[0mprint_every\u001b[0m\u001b[0;34m=\u001b[0m\u001b[0;36m5000\u001b[0m\u001b[0;34m)\u001b[0m\u001b[0;34m\u001b[0m\u001b[0m\n\u001b[0m",
      "\u001b[0;32m<ipython-input-20-82797bfe6377>\u001b[0m in \u001b[0;36mtrainIters\u001b[0;34m(encoder, decoder, n_iters, print_every, plot_every, learning_rate)\u001b[0m\n\u001b[1;32m     32\u001b[0m             \u001b[0mplot_loss_total\u001b[0m \u001b[0;34m=\u001b[0m \u001b[0;36m0\u001b[0m\u001b[0;34m\u001b[0m\u001b[0m\n\u001b[1;32m     33\u001b[0m \u001b[0;34m\u001b[0m\u001b[0m\n\u001b[0;32m---> 34\u001b[0;31m     \u001b[0mshowPlot\u001b[0m\u001b[0;34m(\u001b[0m\u001b[0mplot_losses\u001b[0m\u001b[0;34m)\u001b[0m\u001b[0;34m\u001b[0m\u001b[0m\n\u001b[0m",
      "\u001b[0;32m<ipython-input-21-06d6b1645968>\u001b[0m in \u001b[0;36mshowPlot\u001b[0;34m(points)\u001b[0m\n\u001b[1;32m      9\u001b[0m     \u001b[0mfig\u001b[0m\u001b[0;34m,\u001b[0m \u001b[0max\u001b[0m \u001b[0;34m=\u001b[0m \u001b[0mplt\u001b[0m\u001b[0;34m.\u001b[0m\u001b[0msubplots\u001b[0m\u001b[0;34m(\u001b[0m\u001b[0;34m)\u001b[0m\u001b[0;34m\u001b[0m\u001b[0m\n\u001b[1;32m     10\u001b[0m     \u001b[0;31m# this locator puts tickes at regular intervals\u001b[0m\u001b[0;34m\u001b[0m\u001b[0;34m\u001b[0m\u001b[0m\n\u001b[0;32m---> 11\u001b[0;31m     \u001b[0mloc\u001b[0m \u001b[0;34m=\u001b[0m \u001b[0mticker\u001b[0m\u001b[0;34m.\u001b[0m\u001b[0mMultipleLocator\u001b[0m\u001b[0;34m(\u001b[0m\u001b[0mbas\u001b[0m\u001b[0;34m=\u001b[0m\u001b[0;36m0.2\u001b[0m\u001b[0;34m)\u001b[0m\u001b[0;34m\u001b[0m\u001b[0m\n\u001b[0m\u001b[1;32m     12\u001b[0m     \u001b[0max\u001b[0m\u001b[0;34m.\u001b[0m\u001b[0myaxis\u001b[0m\u001b[0;34m.\u001b[0m\u001b[0mset_major_locator\u001b[0m\u001b[0;34m(\u001b[0m\u001b[0mloc\u001b[0m\u001b[0;34m)\u001b[0m\u001b[0;34m\u001b[0m\u001b[0m\n\u001b[1;32m     13\u001b[0m     \u001b[0mplt\u001b[0m\u001b[0;34m.\u001b[0m\u001b[0mplot\u001b[0m\u001b[0;34m(\u001b[0m\u001b[0mpoints\u001b[0m\u001b[0;34m)\u001b[0m\u001b[0;34m\u001b[0m\u001b[0m\n",
      "\u001b[0;31mTypeError\u001b[0m: __init__() got an unexpected keyword argument 'bas'"
     ]
    },
    {
     "data": {
      "text/plain": [
       "<Figure size 432x288 with 0 Axes>"
      ]
     },
     "metadata": {},
     "output_type": "display_data"
    },
    {
     "data": {
      "image/png": "[encoded data removed]",
      "text/plain": [
       "<Figure size 432x288 with 1 Axes>"
      ]
     },
     "metadata": {},
     "output_type": "display_data"
    }
   ],
   "source": [
    "# input_datasetが小さいので、小さいネットワーク、hidden_nodeを256にする\n",
    "hidden_size = 256\n",
    "encoder1 = EncoderRNN(input_lang.n_words, hidden_size).to(device)\n",
    "attn_decoder1 = AttnDecoderRNN(hidden_size, output_lang.n_words, dropout_p=0.1).to(device)\n",
    "\n",
    "trainIters(encoder1, attn_decoder1, 75000, print_every=5000)"
   ]
  },
  {
   "cell_type": "code",
   "execution_count": 30,
   "metadata": {},
   "outputs": [
    {
     "name": "stdout",
     "output_type": "stream",
     "text": [
      "> elle est fachee la .\n",
      "= she s upset right now .\n",
      "< she s right now . <EOS>\n",
      "\n",
      "> nous en avons fini ici .\n",
      "= we re finished here .\n",
      "< we re done here . <EOS>\n",
      "\n",
      "> elle est au regime .\n",
      "= she is on a diet .\n",
      "< she is on a diet . <EOS>\n",
      "\n",
      "> j ai une dette envers vous .\n",
      "= i m indebted to you .\n",
      "< i m indebted to you . <EOS>\n",
      "\n",
      "> ils sont en bas .\n",
      "= they re downstairs .\n",
      "< they re downstairs . <EOS>\n",
      "\n",
      "> elle est aussi occupee que tom .\n",
      "= she s as busy as tom .\n",
      "< she s as busy as tom . <EOS>\n",
      "\n",
      "> il est dans la lune .\n",
      "= he is distracted .\n",
      "< he is distracted . <EOS>\n",
      "\n",
      "> vous etes maintenant en voie de retablissement .\n",
      "= you are now on the way to recovery .\n",
      "< you are now are now now . <EOS>\n",
      "\n",
      "> il n est pas parfait .\n",
      "= he isn t perfect .\n",
      "< he is not perfect . <EOS>\n",
      "\n",
      "> il craint la mort .\n",
      "= he is afraid of death .\n",
      "< he is afraid of death . <EOS>\n",
      "\n"
     ]
    }
   ],
   "source": [
    "evaluateRandomly(encoder1, attn_decoder1)"
   ]
  },
  {
   "cell_type": "markdown",
   "metadata": {},
   "source": [
    "Visualizing Attention"
   ]
  },
  {
   "cell_type": "code",
   "execution_count": 50,
   "metadata": {},
   "outputs": [
    {
     "data": {
      "text/plain": [
       "<matplotlib.image.AxesImage at 0x7ff8dda04a58>"
      ]
     },
     "execution_count": 50,
     "metadata": {},
     "output_type": "execute_result"
    },
    {
     "data": {
      "image/png": "[encoded data removed]",
      "text/plain": [
       "<Figure size 480x288 with 1 Axes>"
      ]
     },
     "metadata": {},
     "output_type": "display_data"
    }
   ],
   "source": [
    "output_words, attentions = evaluate(\n",
    "    encoder1, attn_decoder1, \"je suis trop froid .\")\n",
    "plt.matshow(attentions.numpy())"
   ]
  },
  {
   "cell_type": "markdown",
   "metadata": {},
   "source": [
    "je: それは  \n",
    "suis: be動詞的な？意味はなさそう  \n",
    "trop: too, あまりにも  \n",
    "froid: 寒い\n",
    "\n",
    "列: embedded + prev_hidden  \n",
    "行: decoder、\"<SOS\\>\"から順番に単語を入れていく  \n",
    "<SOS\\>: je  \n",
    "i: trop  \n",
    "m: froid  \n",
    "too: .  \n",
    "sensitive: .  \n",
    ".: prev_hidden[2]←何を表している？\n"
   ]
  },
  {
   "cell_type": "code",
   "execution_count": 34,
   "metadata": {},
   "outputs": [
    {
     "data": {
      "text/plain": [
       "torch.Size([6, 10])"
      ]
     },
     "execution_count": 34,
     "metadata": {},
     "output_type": "execute_result"
    }
   ],
   "source": [
    "attentions.shape"
   ]
  },
  {
   "cell_type": "code",
   "execution_count": 32,
   "metadata": {},
   "outputs": [
    {
     "data": {
      "text/plain": [
       "['i', 'm', 'too', 'sensitive', '.', '<EOS>']"
      ]
     },
     "execution_count": 32,
     "metadata": {},
     "output_type": "execute_result"
    }
   ],
   "source": [
    "output_words"
   ]
  },
  {
   "cell_type": "markdown",
   "metadata": {},
   "source": [
    "もうちょい見やすくする  "
   ]
  },
  {
   "cell_type": "code",
   "execution_count": 51,
   "metadata": {
    "scrolled": false
   },
   "outputs": [
    {
     "name": "stdout",
     "output_type": "stream",
     "text": [
      "input = elle a cinq ans de moins que moi .\n",
      "output = she s six years younger than me . <EOS>\n",
      "input = elle est trop petit .\n",
      "output = she is too short . <EOS>\n",
      "input = je ne crains pas de mourir .\n",
      "output = i m not afraid to die . <EOS>\n",
      "input = c est un jeune directeur plein de talent .\n",
      "output = he s a good young man . <EOS>\n"
     ]
    },
    {
     "data": {
      "image/png": "[encoded data removed]",
      "text/plain": [
       "<Figure size 432x288 with 2 Axes>"
      ]
     },
     "metadata": {},
     "output_type": "display_data"
    },
    {
     "data": {
      "image/png": "[encoded data removed]",
      "text/plain": [
       "<Figure size 432x288 with 2 Axes>"
      ]
     },
     "metadata": {},
     "output_type": "display_data"
    },
    {
     "data": {
      "image/png": "[encoded data removed]",
      "text/plain": [
       "<Figure size 432x288 with 2 Axes>"
      ]
     },
     "metadata": {},
     "output_type": "display_data"
    },
    {
     "data": {
      "image/png": "[encoded data removed]",
      "text/plain": [
       "<Figure size 432x288 with 2 Axes>"
      ]
     },
     "metadata": {},
     "output_type": "display_data"
    }
   ],
   "source": [
    "def showAttention(input_sentence, output_words, attentions):\n",
    "    \" Set up figure with colorbar\"\n",
    "    fig = plt.figure()\n",
    "    ax = fig.add_subplot(111)\n",
    "    cax = ax.matshow(attentions.numpy(), cmap='bone')\n",
    "    fig.colorbar(cax)\n",
    "    \n",
    "    # Set up axes\n",
    "    ax.set_xticklabels([' '] + input_sentence.split(' ') +\n",
    "                      ['<EOS>'], rotation=90)\n",
    "    ax.set_yticklabels([' '] + output_words)\n",
    "    \n",
    "    # Show label at every tick\n",
    "    ax.xaxis.set_major_locator(ticker.MultipleLocator(1))\n",
    "    ax.yaxis.set_major_locator(ticker.MultipleLocator(1))\n",
    "    \n",
    "    plt.show()\n",
    "    \n",
    "\n",
    "def evaluateAndShowAttention(input_sentence):\n",
    "    output_words, attentions = evaluate(\n",
    "        encoder1, attn_decoder1, input_sentence)\n",
    "    print('input =', input_sentence)\n",
    "    print(\"output =\", ' '.join(output_words))\n",
    "    showAttention(input_sentence, output_words, attentions)\n",
    "    \n",
    "    \n",
    "evaluateAndShowAttention(\"elle a cinq ans de moins que moi .\")\n",
    "evaluateAndShowAttention(\"elle est trop petit .\")\n",
    "evaluateAndShowAttention(\"je ne crains pas de mourir .\")\n",
    "evaluateAndShowAttention(\"c est un jeune directeur plein de talent .\")"
   ]
  },
  {
   "cell_type": "markdown",
   "metadata": {},
   "source": [
    "EmbeddingをGloVeかfaxttextに変えてみる  \n",
    "InとOutを同じ言語にすれば、autoencoderとして使える  \n",
    "その場合は、Encoder networkのみを保存して、次に新しいDecoderを準備して学習させる"
   ]
  },
  {
   "cell_type": "code",
   "execution_count": 39,
   "metadata": {},
   "outputs": [],
   "source": [
    "sentence = \"elle a cinq ans de moins que moi .\""
   ]
  }
 ],
 "metadata": {
  "kernelspec": {
   "display_name": "Python 3",
   "language": "python",
   "name": "python3"
  },
  "language_info": {
   "codemirror_mode": {
    "name": "ipython",
    "version": 3
   },
   "file_extension": ".py",
   "mimetype": "text/x-python",
   "name": "python",
   "nbconvert_exporter": "python",
   "pygments_lexer": "ipython3",
   "version": "3.6.5"
  }
 },
 "nbformat": 4,
 "nbformat_minor": 2
}
