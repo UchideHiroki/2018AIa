{
 "cells": [
  {
   "cell_type": "code",
   "execution_count": 1,
   "metadata": {},
   "outputs": [
    {
     "name": "stderr",
     "output_type": "stream",
     "text": [
      "/home/ubuntu/anaconda3/envs/pytorch_p36/lib/python3.6/site-packages/matplotlib/__init__.py:1067: UserWarning: Duplicate key in file \"/home/ubuntu/.config/matplotlib/matplotlibrc\", line #2\n",
      "  (fname, cnt))\n",
      "/home/ubuntu/anaconda3/envs/pytorch_p36/lib/python3.6/site-packages/matplotlib/__init__.py:1067: UserWarning: Duplicate key in file \"/home/ubuntu/.config/matplotlib/matplotlibrc\", line #3\n",
      "  (fname, cnt))\n"
     ]
    }
   ],
   "source": [
    "import pandas as pd\n",
    "import matplotlib.pyplot as plt\n",
    "from copy import copy, deepcopy\n",
    "from random import sample\n",
    "from collections import defaultdict\n",
    "from pathlib import Path\n",
    "import networkx as nx\n",
    "import pickle\n",
    "from itertools import permutations, chain\n",
    "import numpy as np\n",
    "from random import sample\n",
    "from gensim.models.keyedvectors import KeyedVectors\n",
    "from gensim.similarities.index import AnnoyIndexer\n",
    "from scipy.stats import spearmanr\n",
    "import pandas as pd\n",
    "from tqdm import tqdm_notebook as tqdm\n",
    "from multiprocessing import Pool\n",
    "import unicodedata\n",
    "import re\n",
    "import string\n",
    "import random"
   ]
  },
  {
   "cell_type": "code",
   "execution_count": 2,
   "metadata": {},
   "outputs": [],
   "source": [
    "import torch\n",
    "import torch.nn as nn\n",
    "from torch import optim\n",
    "from torch.nn import functional as F"
   ]
  },
  {
   "cell_type": "code",
   "execution_count": 3,
   "metadata": {},
   "outputs": [],
   "source": [
    "torch.manual_seed(1234)\n",
    "np.random.seed(1234)"
   ]
  },
  {
   "cell_type": "code",
   "execution_count": 4,
   "metadata": {},
   "outputs": [],
   "source": [
    "%matplotlib inline"
   ]
  },
  {
   "cell_type": "code",
   "execution_count": 5,
   "metadata": {},
   "outputs": [],
   "source": [
    "device = torch.device( \"cuda\" if torch.cuda.is_available() else \"cpu\")"
   ]
  },
  {
   "cell_type": "markdown",
   "metadata": {},
   "source": [
    "# 単語の準備"
   ]
  },
  {
   "cell_type": "code",
   "execution_count": 7,
   "metadata": {},
   "outputs": [
    {
     "name": "stdout",
     "output_type": "stream",
     "text": [
      "CPU times: user 516 ms, sys: 4 ms, total: 520 ms\n",
      "Wall time: 1.04 s\n"
     ]
    }
   ],
   "source": [
    "%%time\n",
    "embedding = KeyedVectors.load_word2vec_format('../input/GoogleNews-vectors-negative300.bin.gz', binary=True, limit=10000)"
   ]
  },
  {
   "cell_type": "code",
   "execution_count": 8,
   "metadata": {},
   "outputs": [],
   "source": [
    "def unicodeToAscii(s):\n",
    "    return ''.join(c for c in unicodedata.normalize('NFD', s) if unicodedata.category(c) != 'Mn')\n",
    "    \n",
    "# 大文字を全部小文字にする\n",
    "# 無駄な空白や文字じゃないやつを全部消す\n",
    "def normalizeString(s):\n",
    "    s = unicodeToAscii(s.lower().strip())\n",
    "    s = re.sub(r\"([.!?])\", r\"\", s)\n",
    "    s = re.sub(r\"[^a-zA-Z.!?]+\", r\"\", s)\n",
    "    return s"
   ]
  },
  {
   "cell_type": "code",
   "execution_count": 9,
   "metadata": {},
   "outputs": [
    {
     "name": "stdout",
     "output_type": "stream",
     "text": [
      "CPU times: user 112 ms, sys: 0 ns, total: 112 ms\n",
      "Wall time: 220 ms\n"
     ]
    }
   ],
   "source": [
    "%%time\n",
    "# あらかじめ入力する単語を綺麗にしておく\n",
    "# 全て小文字にして、a-z以外の単語を取り除く\n",
    "normalized_words = set([normalizeString(word) for word in embedding.vocab.keys()]) & embedding.vocab.keys()"
   ]
  },
  {
   "cell_type": "code",
   "execution_count": 10,
   "metadata": {},
   "outputs": [],
   "source": [
    "n_train = int(len(normalized_words) * 0.9)\n",
    "n_validate = int(len(normalized_words) * 0.05)\n",
    "n_test = len(normalized_words) - n_train - n_validate\n",
    "\n",
    "all_words = list(normalized_words)\n",
    "train_words = set(sample(all_words, n_train))\n",
    "validate_words = set(sample(list(set(all_words) - train_words), n_validate))\n",
    "test_words = normalized_words - train_words - validate_words"
   ]
  },
  {
   "cell_type": "code",
   "execution_count": 11,
   "metadata": {},
   "outputs": [
    {
     "data": {
      "text/plain": [
       "(5647, 705, 707, 7059)"
      ]
     },
     "execution_count": 11,
     "metadata": {},
     "output_type": "execute_result"
    }
   ],
   "source": [
    "n_train, n_validate, n_test, len(normalized_words)"
   ]
  },
  {
   "cell_type": "markdown",
   "metadata": {},
   "source": [
    "# バッチ処理"
   ]
  },
  {
   "cell_type": "code",
   "execution_count": 12,
   "metadata": {
    "code_folding": []
   },
   "outputs": [],
   "source": [
    "class GRUEncoder(nn.Module):\n",
    "    def __init__(self, emb_dim, h_dim):\n",
    "        super(GRUEncoder, self).__init__()\n",
    "        self.emb_dim = emb_dim\n",
    "        self.h_dim = h_dim\n",
    "        \n",
    "        self.emb = nn.Embedding(27, self.emb_dim) # a-z, paddingの合計27種類\n",
    "        self.gru = nn.GRU(self.emb_dim, self.h_dim, batch_first=True, bidirectional=True)\n",
    "        \n",
    "    def init_hidden(self, b_size):\n",
    "        h0 = torch.zeros(1*2, b_size, self.h_dim, device=device)\n",
    "        return h0\n",
    "    \n",
    "    def forward(self, words, lengths):\n",
    "        '''\n",
    "        words(文字idxの列に変換したwords): tensor(b, s_len), wordsは文字数が長い順に並べ、0埋めをしておく\n",
    "        length(文字数): tensor(b, 1), wordの文字数を長い順に並べたもの\n",
    "        '''\n",
    "        self.hidden = self.init_hidden(words.size(0))\n",
    "        embed = self.emb(words)\n",
    "        lengths = lengths.view(-1)\n",
    "        packed_input = nn.utils.rnn.pack_padded_sequence(embed, lengths, batch_first=True)\n",
    "        packed_out, hidden = self.gru(packed_input, self.hidden)\n",
    "        out = nn.utils.rnn.pad_packed_sequence(packed_out, batch_first=True)[0] # 0:out, 1: lengths\n",
    "        # itokの実装では以下の計算を行なっていたが、元論文には無いので実行しない\n",
    "        # out = out[:, :, :self.h_dim] + out[:, :, self.h_dim:] # 多分、正方向out + 逆方向outを計算\n",
    "        return out # (b, s, h*2)"
   ]
  },
  {
   "cell_type": "code",
   "execution_count": 13,
   "metadata": {
    "code_folding": []
   },
   "outputs": [],
   "source": [
    "class Attn(nn.Module):\n",
    "    ''' Single Attention'''\n",
    "    def __init__(self, h_dim, linear_mid, linear_out=1):\n",
    "        super(Attn, self).__init__()\n",
    "        self.h_dim = h_dim\n",
    "        \n",
    "        self.main = nn.Sequential(\n",
    "            nn.Linear(h_dim*2, linear_mid),\n",
    "            nn.ReLU(True),\n",
    "            nn.Linear(linear_mid, 1)\n",
    "        )\n",
    "        \n",
    "    def forward(self, encoder_outputs):\n",
    "        b_size = encoder_outputs.size(0)\n",
    "        attn = self.main(encoder_outputs.contiguous().view(-1, self.h_dim*2)) # (b, s, h*2)→(b*s, h*2)→(b*s, 1)\n",
    "        return F.softmax(attn.view(b_size, -1), dim=1).unsqueeze(2) # (b*s, 1)→(b, s)→(b, s, 1)"
   ]
  },
  {
   "cell_type": "code",
   "execution_count": 14,
   "metadata": {
    "code_folding": []
   },
   "outputs": [],
   "source": [
    "class AttnDecoder(nn.Module):\n",
    "    def __init__(self, h_dim, linear_mid, linear_out=1, out_dim=300):\n",
    "        super(AttnDecoder, self).__init__()\n",
    "        \n",
    "        self.attn = Attn(h_dim, linear_mid, linear_out)\n",
    "        self.linear = nn.Linear(h_dim*2, out_dim)\n",
    "        \n",
    "    def forward(self, encoder_outputs):\n",
    "        attn = self.attn(encoder_outputs)\n",
    "        feats = (encoder_outputs * attn).sum(dim=1) # (b, s, h*2)*(b, s, 1)=(b, s, h*2)→(b, h*2)\n",
    "        out = self.linear(feats) # (b, h*2)→(b, out)\n",
    "        return out, attn"
   ]
  },
  {
   "cell_type": "code",
   "execution_count": 15,
   "metadata": {
    "code_folding": [
     4
    ]
   },
   "outputs": [],
   "source": [
    "# ループを噛ませるとバッチを作るイテレータを生成する関数、ジェネレータを作る勉強\n",
    "# forループの中でいちいちバッチを作るより高速化したり、必要なメモリ量が減るらしい\n",
    "# 参考1: https://qiita.com/tomotaka_ito/items/35f3eb108f587022fa09\n",
    "# 参考2: https://www.lifewithpython.com/2015/11/python-create-iterator-protocol-class.html←こちらに準拠\n",
    "class DataIterator(object):\n",
    "    def __init__(self, words, batch_len):\n",
    "        self.words = list(words)\n",
    "        self.n_words = len(words)\n",
    "        self.batch_len = batch_len\n",
    "    def __iter__(self):\n",
    "        random.shuffle(self.words) # 学習の各epoch毎に、単語を並び替える\n",
    "        for b_idx in range(0, self.n_words, self.batch_len):\n",
    "            word_batch = self.words[b_idx:b_idx+self.batch_len] # 単語のバッチを取り出す\n",
    "            \n",
    "            target_tensor = torch.from_numpy(np.array([embedding[word] for word in word_batch])).to(device) # (b, 300)\n",
    "            \n",
    "            word_batch = [[string.ascii_lowercase.index(l)+1 for l in word] for word in word_batch] # 各単語の文字をindex化する\n",
    "            word_lengths = torch.LongTensor([len(word) for word in word_batch], device=device) # 各単語の長さを測る\n",
    "            word_tensor = torch.zeros((len(word_batch), word_lengths.max()), device=device).long() \n",
    "            for w_idx, (word, w_len) in enumerate(zip(word_batch, word_lengths)): # paddingで単語の長さを揃える\n",
    "                word_tensor[w_idx, :w_len] = torch.LongTensor(word)\n",
    "            word_lengths, perm_idx = word_lengths.sort(0, descending=True) # 単語の長さを降順に並び替える\n",
    "            word_tensor = word_tensor[perm_idx] # バッチ内単語を単語の長さが長い順に並び替える\n",
    "            \n",
    "            yield word_tensor, word_lengths, target_tensor"
   ]
  },
  {
   "cell_type": "code",
   "execution_count": 16,
   "metadata": {
    "code_folding": [
     0
    ]
   },
   "outputs": [],
   "source": [
    "def generate_validation_batch(words, batch_len):\n",
    "    ''' 学習経過を観測するためのバッチ, trainとは別の単語群を用いる'''\n",
    "    word_batch = random.sample(words, batch_len)\n",
    "    target_tensor = torch.from_numpy(np.array([embedding[word] for word in word_batch])).to(device)      \n",
    "    word_batch = [[string.ascii_lowercase.index(l)+1 for l in word] for word in word_batch]\n",
    "    word_lengths = torch.LongTensor([len(word) for word in word_batch], device=device)\n",
    "    word_tensor = torch.zeros((len(word_batch), word_lengths.max()), device=device).long() \n",
    "    for w_idx, (word, w_len) in enumerate(zip(word_batch, word_lengths)):\n",
    "        word_tensor[w_idx, :w_len] = torch.LongTensor(word)\n",
    "    word_lengths, perm_idx = word_lengths.sort(0, descending=True)\n",
    "    word_tensor = word_tensor[perm_idx]\n",
    "    return word_tensor, word_lengths, target_tensor"
   ]
  },
  {
   "cell_type": "markdown",
   "metadata": {},
   "source": [
    "# 学習"
   ]
  },
  {
   "cell_type": "code",
   "execution_count": 96,
   "metadata": {},
   "outputs": [],
   "source": [
    "emb_dim = 16\n",
    "h_dim = 126\n",
    "linear_mid = 64\n",
    "learning_rate = 0.03\n",
    "batch_len = 10\n",
    "n_epoch = 100\n",
    "print_every = 10"
   ]
  },
  {
   "cell_type": "code",
   "execution_count": 87,
   "metadata": {},
   "outputs": [],
   "source": [
    "encoder = GRUEncoder(emb_dim, h_dim).to(device)\n",
    "decoder = AttnDecoder(h_dim, linear_mid).to(device)"
   ]
  },
  {
   "cell_type": "code",
   "execution_count": 88,
   "metadata": {},
   "outputs": [],
   "source": [
    "optimizer = optim.SGD(chain(encoder.parameters(), decoder.parameters()), lr=learning_rate)"
   ]
  },
  {
   "cell_type": "code",
   "execution_count": 89,
   "metadata": {
    "scrolled": true
   },
   "outputs": [],
   "source": [
    "criterion = nn.MSELoss()"
   ]
  },
  {
   "cell_type": "code",
   "execution_count": 90,
   "metadata": {},
   "outputs": [],
   "source": [
    "data_iterator = DataIterator(train_words, batch_len)"
   ]
  },
  {
   "cell_type": "code",
   "execution_count": 91,
   "metadata": {},
   "outputs": [],
   "source": [
    "def train(train_iter, optimizer, criterion):\n",
    "    epoch_loss = 0\n",
    "    for i, (word_tensor, word_lengths, target_tensor) in enumerate(data_iterator):\n",
    "        optimizer.zero_grad()\n",
    "        encoder_outputs = encoder(word_tensor, word_lengths)\n",
    "        output, attn = decoder(encoder_outputs)\n",
    "        loss = criterion(output.view(-1, 300), target_tensor.view(-1, 300)) # (b, out_dim)\n",
    "        loss.backward()\n",
    "        optimizer.step()\n",
    "        epoch_loss += loss\n",
    "    epoch_loss = epoch_loss / (i+1) # ループを最後まで回したから、iには(ループ回数-1)が代入されている\n",
    "    return epoch_loss"
   ]
  },
  {
   "cell_type": "code",
   "execution_count": 92,
   "metadata": {},
   "outputs": [],
   "source": [
    "def validate(validate_words, criterion, batch_len=100): # batch_len: 評価用の単語群、サンプリングする\n",
    "    with torch.no_grad():\n",
    "        valid_loss = 0\n",
    "        word_tensor, word_lengths, target_tensor = generate_validation_batch(validate_words, batch_len)\n",
    "        encoder_outputs = encoder(word_tensor, word_lengths)\n",
    "        output, attn = decoder(encoder_outputs)\n",
    "        loss = criterion(output, target_tensor)\n",
    "        valid_loss += loss\n",
    "    return valid_loss"
   ]
  },
  {
   "cell_type": "code",
   "execution_count": 97,
   "metadata": {},
   "outputs": [
    {
     "data": {
      "application/vnd.jupyter.widget-view+json": {
       "model_id": "9673b81703254091ba2953726e1b29b5",
       "version_major": 2,
       "version_minor": 0
      },
      "text/plain": [
       "HBox(children=(IntProgress(value=0), HTML(value='')))"
      ]
     },
     "metadata": {},
     "output_type": "display_data"
    },
    {
     "name": "stdout",
     "output_type": "stream",
     "text": [
      "iter: 0 train_loss: 0.02787 valid_loss: 0.02596\n",
      "iter: 10 train_loss: 0.02786 valid_loss: 0.02722\n",
      "iter: 20 train_loss: 0.02783 valid_loss: 0.02643\n",
      "iter: 30 train_loss: 0.02783 valid_loss: 0.02850\n",
      "iter: 40 train_loss: 0.02780 valid_loss: 0.02798\n",
      "iter: 50 train_loss: 0.02780 valid_loss: 0.02858\n",
      "iter: 60 train_loss: 0.02778 valid_loss: 0.02750\n",
      "iter: 70 train_loss: 0.02778 valid_loss: 0.02863\n",
      "iter: 80 train_loss: 0.02777 valid_loss: 0.02717\n",
      "iter: 90 train_loss: 0.02776 valid_loss: 0.02702\n"
     ]
    }
   ],
   "source": [
    "train_learning_curve = list()\n",
    "valid_learning_curve = list()\n",
    "for epoch in tqdm(range(n_epoch)):\n",
    "    train_loss = train(data_iterator, optimizer, criterion)\n",
    "    valid_loss = validate(validate_words, criterion)\n",
    "    \n",
    "    train_learning_curve.append(train_loss)\n",
    "    valid_learning_curve.append(valid_loss)\n",
    "    if epoch % print_every == 0:\n",
    "        print(\"iter: {} train_loss: {:.5f} valid_loss: {:.5f}\".format(epoch, train_loss, valid_loss))"
   ]
  },
  {
   "cell_type": "code",
   "execution_count": 98,
   "metadata": {},
   "outputs": [
    {
     "data": {
      "image/png": "[encoded data removed]",
      "text/plain": [
       "<Figure size 864x432 with 1 Axes>"
      ]
     },
     "metadata": {},
     "output_type": "display_data"
    }
   ],
   "source": [
    "fig, ax = plt.subplots(figsize=(12, 6))\n",
    "ax.plot(train_learning_curve, label='train')\n",
    "ax.plot(valid_learning_curve, label='test')\n",
    "ax.set_ylim(0, 0.04)\n",
    "ax.legend()\n",
    "plt.show()"
   ]
  },
  {
   "cell_type": "code",
   "execution_count": 75,
   "metadata": {},
   "outputs": [],
   "source": [
    "tmp = [2,3,7,4,5,9,7,9,8,6]"
   ]
  },
  {
   "cell_type": "code",
   "execution_count": 76,
   "metadata": {},
   "outputs": [
    {
     "data": {
      "text/plain": [
       "5"
      ]
     },
     "execution_count": 76,
     "metadata": {},
     "output_type": "execute_result"
    }
   ],
   "source": [
    "tmp.index(max(tmp))"
   ]
  },
  {
   "cell_type": "code",
   "execution_count": 104,
   "metadata": {},
   "outputs": [],
   "source": [
    "def predict(predict_word):\n",
    "    word_tensor, word_lengths, _ = generate_validation_batch({predict_word}, batch_len=1)\n",
    "    with torch.no_grad():\n",
    "        encoder_outputs = encoder(word_tensor, word_lengths)\n",
    "        output, attn = decoder(encoder_outputs)\n",
    "        attn = attn.cpu().numpy().flatten()\n",
    "    attn = list(attn)\n",
    "    min_value = min(attn)\n",
    "    attn_indexes = [idx for idx, value in enumerate(attn) if value > min_value*1.01]\n",
    "    attn_splits = [predict_word[]]\n",
    "    print('word: {}'.format(predict_word))\n",
    "    print('attention: {}'.format([round(i, 3) for i in attn]))\n",
    "    print('split: {}'.format(predict_word[:max_index], predict_word[max_index:]))\n",
    "    print('')"
   ]
  },
  {
   "cell_type": "code",
   "execution_count": 125,
   "metadata": {},
   "outputs": [],
   "source": [
    "def split_ing(predict_word):\n",
    "    word_tensor, word_lengths, _ = generate_validation_batch({predict_word}, batch_len=1)\n",
    "    with torch.no_grad():\n",
    "        encoder_outputs = encoder(word_tensor, word_lengths)\n",
    "        output, attn = decoder(encoder_outputs)\n",
    "        attn = attn.cpu().numpy().flatten()\n",
    "    attn = list(attn)\n",
    "    max_index = attn.index(max(attn))\n",
    "    print('word: {}'.format(predict_word))\n",
    "    print('split: {} {}'.format(predict_word[:max_index-1], predict_word[max_index-1:]))\n",
    "    print('')"
   ]
  },
  {
   "cell_type": "code",
   "execution_count": 122,
   "metadata": {},
   "outputs": [
    {
     "data": {
      "text/plain": [
       "4"
      ]
     },
     "execution_count": 122,
     "metadata": {},
     "output_type": "execute_result"
    }
   ],
   "source": [
    "[1,2,3,2,5,6].index(5)"
   ]
  },
  {
   "cell_type": "code",
   "execution_count": 118,
   "metadata": {},
   "outputs": [
    {
     "data": {
      "text/plain": [
       "True"
      ]
     },
     "execution_count": 118,
     "metadata": {},
     "output_type": "execute_result"
    }
   ],
   "source": [
    "'saying' in (train_words)"
   ]
  },
  {
   "cell_type": "code",
   "execution_count": 106,
   "metadata": {},
   "outputs": [
    {
     "name": "stdout",
     "output_type": "stream",
     "text": [
      "word: saying\n",
      "attention: [0.167, 0.163, 0.162, 0.166, 0.175, 0.167]\n",
      "split: sayi ng\n",
      "\n"
     ]
    }
   ],
   "source": [
    "predict('saying')"
   ]
  },
  {
   "cell_type": "code",
   "execution_count": 114,
   "metadata": {},
   "outputs": [
    {
     "data": {
      "text/plain": [
       "'ing'"
      ]
     },
     "execution_count": 114,
     "metadata": {},
     "output_type": "execute_result"
    }
   ],
   "source": [
    "'working'[-3:]"
   ]
  },
  {
   "cell_type": "code",
   "execution_count": null,
   "metadata": {},
   "outputs": [],
   "source": []
  },
  {
   "cell_type": "code",
   "execution_count": 126,
   "metadata": {
    "scrolled": false
   },
   "outputs": [
    {
     "name": "stdout",
     "output_type": "stream",
     "text": [
      "word: saying\n",
      "split: say ing\n",
      "\n",
      "word: staffing\n",
      "split: staff ing\n",
      "\n",
      "word: counseling\n",
      "split: co unseling\n",
      "\n",
      "word: lacking\n",
      "split: lack ing\n",
      "\n",
      "word: king\n",
      "split: k ing\n",
      "\n",
      "word: consisting\n",
      "split: c onsisting\n",
      "\n",
      "word: networking\n",
      "split: network ing\n",
      "\n",
      "word: rewarding\n",
      "split: reward ing\n",
      "\n",
      "word: wrongdoing\n",
      "split: wr ongdoing\n",
      "\n",
      "word: eliminating\n",
      "split: eliminat ing\n",
      "\n",
      "word: disturbing\n",
      "split: disturb ing\n",
      "\n",
      "word: thinking\n",
      "split: think ing\n",
      "\n",
      "word: nothing\n",
      "split: noth ing\n",
      "\n",
      "word: releasing\n",
      "split: releasin g\n",
      "\n",
      "word: blowing\n",
      "split: blow ing\n",
      "\n",
      "word: advancing\n",
      "split: advanc ing\n",
      "\n",
      "word: lighting\n",
      "split: light ing\n",
      "\n",
      "word: listing\n",
      "split: list ing\n",
      "\n",
      "word: crying\n",
      "split: cry ing\n",
      "\n",
      "word: demanding\n",
      "split: demand ing\n",
      "\n",
      "word: touring\n",
      "split: tour ing\n",
      "\n"
     ]
    }
   ],
   "source": [
    "cnt = 0\n",
    "for word in train_words:\n",
    "    if word[-3:] == 'ing':\n",
    "        split_ing(word)\n",
    "        cnt += 1\n",
    "        if cnt > 20:\n",
    "            break"
   ]
  },
  {
   "cell_type": "code",
   "execution_count": null,
   "metadata": {},
   "outputs": [],
   "source": []
  }
 ],
 "metadata": {
  "kernelspec": {
   "display_name": "Python 3",
   "language": "python",
   "name": "python3"
  },
  "language_info": {
   "codemirror_mode": {
    "name": "ipython",
    "version": 3
   },
   "file_extension": ".py",
   "mimetype": "text/x-python",
   "name": "python",
   "nbconvert_exporter": "python",
   "pygments_lexer": "ipython3",
   "version": "3.6.5"
  }
 },
 "nbformat": 4,
 "nbformat_minor": 2
}
