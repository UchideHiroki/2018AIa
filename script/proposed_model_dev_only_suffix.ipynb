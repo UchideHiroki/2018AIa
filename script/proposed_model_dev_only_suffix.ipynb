{
 "cells": [
  {
   "cell_type": "markdown",
   "metadata": {},
   "source": [
    "実装手順  \n",
    "前準備  \n",
    "1 wordsからsetを作る  \n",
    "2 setを用いてruleを抽出  \n",
    "3 word, prefix, suffixとidを対応させる  \n",
    "4 prefix, suffixの数を数えて、係数ベクトルの行列を作っておく  \n",
    "5 word1_id, suffix_id, prefix_id, word2_idの組を保存しておく←要らない？  \n",
    "6 word1に対応するrule(word_id, prefix_id or suffix_id, is_suffix)を格納する  is_suffix=Bool \n",
    "\n",
    "forward  \n",
    "1 入力word1\n",
    "   word2はword1より長い必要がある  \n",
    "2 word1, word2をベクトル化する  \n",
    "3 word1_vec, prefix_vec or suffix_vecからword2_vec'を作成  \n",
    "4 word2_vecとlossを計算  \n",
    "\n",
    "備考  \n",
    "ruleは変化系は含めない  \n",
    "prefix, suffix共に最大長さ制限を入れる(デフォルトは4文字)  \n",
    "語彙全体の8割をtrain, 1割をvalidate, 1割をtestに分ける  \n",
    "word_vectorはtrain, validate, test全ての入力単語に対応する必要がある  \n",
    "1. embeddingを定義\n",
    "2. vocabをtrain, evaluate, testに分割  \n",
    "3. **trainのvocabを用いてruleを抽出**(leakを防ぐ)、prefix, suffix, modelを作成  \n",
    "4. 学習用に、train, validateから分割されない単語を取り除いたsetを作成\n",
    "5. 学習、train, validate双方から単語をランダムに選ぶ  \n",
    "6. 単語を分割しうる(word, prefix/suffix)のlistを作成  \n",
    "7. trainの単語全てで学習を行う  \n",
    "8. 評価はvalidateの各単語に対し、最も損失の少ない分割方法のlossを最小化する \n",
    "9. early stopping入れる？一旦入れずに損失の様子をみて判断  \n",
    "10. testはlossにsoftmaxをかけて確率的に表現"
   ]
  },
  {
   "cell_type": "code",
   "execution_count": 68,
   "metadata": {},
   "outputs": [],
   "source": [
    "import pandas as pd\n",
    "import matplotlib.pyplot as plt\n",
    "from copy import copy, deepcopy\n",
    "from random import sample\n",
    "from collections import defaultdict\n",
    "from pathlib import Path\n",
    "import networkx as nx\n",
    "import pickle\n",
    "from itertools import permutations\n",
    "import numpy as np\n",
    "from random import sample\n",
    "from gensim.models.keyedvectors import KeyedVectors\n",
    "from gensim.similarities.index import AnnoyIndexer\n",
    "from scipy.stats import spearmanr\n",
    "import pandas as pd\n",
    "from tqdm import tqdm_notebook as tqdm\n",
    "from multiprocessing import Pool\n",
    "import unicodedata\n",
    "import re"
   ]
  },
  {
   "cell_type": "code",
   "execution_count": 2,
   "metadata": {},
   "outputs": [],
   "source": [
    "import torch\n",
    "import torch.nn as nn\n",
    "from torch import optim\n",
    "import torch.nn.functional as F"
   ]
  },
  {
   "cell_type": "code",
   "execution_count": 69,
   "metadata": {},
   "outputs": [],
   "source": [
    "%matplotlib inline"
   ]
  },
  {
   "cell_type": "code",
   "execution_count": 3,
   "metadata": {},
   "outputs": [],
   "source": [
    "device = torch.device(\"cuda\" if torch.cuda.is_available() else \"cpu\")"
   ]
  },
  {
   "cell_type": "markdown",
   "metadata": {},
   "source": [
    "予め単語を綺麗にすると、embeddingに埋められない単語が出てくる  \n",
    "埋められない奴は予め省いておく"
   ]
  },
  {
   "cell_type": "markdown",
   "metadata": {},
   "source": [
    "# 単語の読み込み"
   ]
  },
  {
   "cell_type": "code",
   "execution_count": 4,
   "metadata": {},
   "outputs": [
    {
     "name": "stdout",
     "output_type": "stream",
     "text": [
      "CPU times: user 512 ms, sys: 4 ms, total: 516 ms\n",
      "Wall time: 673 ms\n"
     ]
    }
   ],
   "source": [
    "%%time\n",
    "embedding = KeyedVectors.load_word2vec_format('../input/GoogleNews-vectors-negative300.bin.gz', binary=True, limit=10000)"
   ]
  },
  {
   "cell_type": "code",
   "execution_count": 5,
   "metadata": {},
   "outputs": [
    {
     "name": "stdout",
     "output_type": "stream",
     "text": [
      "(10000, 300)\n"
     ]
    }
   ],
   "source": [
    "# gensimのKeyedVectorsについて補足  \n",
    "# embedding.vectorsに(単語数, 次元数)のベクトルが格納されている\n",
    "print(embedding.vectors.shape)\n",
    "# embedding['word']で単語に対応したベクトルを取り出すときは、\n",
    "# 1. embedding.vocabの中にwordが入っているか確認\n",
    "# 2. embedding.voacb[word].indexで単語に対応したindexを取り出す\n",
    "# 3. embedding.vectors[index]で単語に対応する(次元数,)のベクトルを返す\n",
    "# という作業を行なっている\n",
    "# 参考URL(ソースコード, 266行目から271行目)\n",
    "# https://github.com/RaRe-Technologies/gensim/blob/develop/gensim/models/keyedvectors.py\n",
    "# pytorchのモデルの中に組み込む事も出来るが、\n",
    "# 先にword2tensor等の関数で、embeddingした単語ベクトルをモデルに入力する方が楽"
   ]
  },
  {
   "cell_type": "code",
   "execution_count": 6,
   "metadata": {},
   "outputs": [
    {
     "data": {
      "text/plain": [
       "3"
      ]
     },
     "execution_count": 6,
     "metadata": {},
     "output_type": "execute_result"
    }
   ],
   "source": [
    "embedding.vocab['that'].index"
   ]
  },
  {
   "cell_type": "code",
   "execution_count": 7,
   "metadata": {
    "scrolled": true
   },
   "outputs": [
    {
     "data": {
      "text/plain": [
       "(10000, 300)"
      ]
     },
     "execution_count": 7,
     "metadata": {},
     "output_type": "execute_result"
    }
   ],
   "source": [
    "embedding.vectors.shape"
   ]
  },
  {
   "cell_type": "code",
   "execution_count": 8,
   "metadata": {
    "code_folding": [
     0,
     5
    ]
   },
   "outputs": [],
   "source": [
    "def unicodeToAscii(s):\n",
    "    return ''.join(c for c in unicodedata.normalize('NFD', s) if unicodedata.category(c) != 'Mn')\n",
    "    \n",
    "# 大文字を全部小文字にする\n",
    "# 無駄な空白や文字じゃないやつを全部消す\n",
    "def normalizeString(s):\n",
    "    s = unicodeToAscii(s.lower().strip())\n",
    "    s = re.sub(r\"([.!?])\", r\"\", s)\n",
    "    s = re.sub(r\"[^a-zA-Z.!?]+\", r\"\", s)\n",
    "    return s"
   ]
  },
  {
   "cell_type": "code",
   "execution_count": 9,
   "metadata": {},
   "outputs": [
    {
     "name": "stdout",
     "output_type": "stream",
     "text": [
      "CPU times: user 116 ms, sys: 0 ns, total: 116 ms\n",
      "Wall time: 113 ms\n"
     ]
    }
   ],
   "source": [
    "%%time\n",
    "# あらかじめ入力する単語を綺麗にしておく\n",
    "# 全て小文字にして、a-z以外の単語を取り除く\n",
    "normalized_words = set([normalizeString(word) for word in embedding.vocab.keys()]) & embedding.vocab.keys()"
   ]
  },
  {
   "cell_type": "markdown",
   "metadata": {},
   "source": [
    "# 単語群をtrain, validate, testに分割"
   ]
  },
  {
   "cell_type": "markdown",
   "metadata": {},
   "source": [
    "trainはモデルの学習に使う単語  \n",
    "validateはモデルの学習と並行でforwardさせ、lossを計算するが、backwardは行わない  \n",
    "trainのlossとvalidateのlossを比較し、過学習が起きないかを監視する単語  \n",
    "testはモデルの最終的な評価に使う単語  "
   ]
  },
  {
   "cell_type": "code",
   "execution_count": 10,
   "metadata": {},
   "outputs": [],
   "source": [
    "n_train = int(len(normalized_words) * 0.8)\n",
    "n_validate = int(len(normalized_words) * 0.1)\n",
    "n_test = len(normalized_words) - n_train - n_validate\n",
    "\n",
    "all_words = list(normalized_words)\n",
    "train_words = set(sample(all_words, n_train))\n",
    "validate_words = set(sample(list(set(all_words) - train_words), n_validate))\n",
    "test_words = normalized_words - train_words - validate_words"
   ]
  },
  {
   "cell_type": "code",
   "execution_count": 11,
   "metadata": {},
   "outputs": [
    {
     "data": {
      "text/plain": [
       "(5647, 705, 707, 7059)"
      ]
     },
     "execution_count": 11,
     "metadata": {},
     "output_type": "execute_result"
    }
   ],
   "source": [
    "n_train, n_validate, n_test, len(normalized_words)"
   ]
  },
  {
   "cell_type": "code",
   "execution_count": 12,
   "metadata": {},
   "outputs": [
    {
     "name": "stdout",
     "output_type": "stream",
     "text": [
      "5647 705 707\n"
     ]
    }
   ],
   "source": [
    "print(len(train_words), len(validate_words), len(test_words))"
   ]
  },
  {
   "cell_type": "code",
   "execution_count": 13,
   "metadata": {},
   "outputs": [],
   "source": [
    "from copy import deepcopy"
   ]
  },
  {
   "cell_type": "code",
   "execution_count": 14,
   "metadata": {},
   "outputs": [],
   "source": [
    "tmp = deepcopy(validate_words)"
   ]
  },
  {
   "cell_type": "markdown",
   "metadata": {},
   "source": [
    "# prefixとsuffixの抽出"
   ]
  },
  {
   "cell_type": "code",
   "execution_count": 15,
   "metadata": {
    "code_folding": []
   },
   "outputs": [],
   "source": [
    "def extract_prefixes(words, max_len=6):\n",
    "    # rules(dict) {add: [(word1, word2), (word3, word4), etc]}\n",
    "    prefixes = defaultdict(list)\n",
    "    for (word1, word2) in permutations(words, 2):\n",
    "        if word2.endswith(word1):\n",
    "            prefix = word2[:word2.rfind(word1)] # rfindは後ろから検索, 先頭検索はNG\n",
    "            if len(prefix) <= max_len:\n",
    "                prefixes[prefix].append((word1, word2))\n",
    "    return dict(prefixes) # lock dict"
   ]
  },
  {
   "cell_type": "code",
   "execution_count": 16,
   "metadata": {
    "code_folding": []
   },
   "outputs": [],
   "source": [
    "def extract_suffixes(words, max_len=6):\n",
    "    # rules(dict) {add: [(word1, word2), (word3, word4), etc]}\n",
    "    suffixes = defaultdict(list)\n",
    "    for (word1, word2) in permutations(words, 2):\n",
    "        if word2.startswith(word1):\n",
    "            suffix = word2[len(word1):]\n",
    "            if len(suffix) <= max_len:\n",
    "                suffixes[suffix].append((word1, word2))\n",
    "    return dict(suffixes) # lock dict"
   ]
  },
  {
   "cell_type": "code",
   "execution_count": 17,
   "metadata": {},
   "outputs": [
    {
     "name": "stdout",
     "output_type": "stream",
     "text": [
      "CPU times: user 11.5 s, sys: 0 ns, total: 11.5 s\n",
      "Wall time: 15 s\n"
     ]
    }
   ],
   "source": [
    "%%time\n",
    "prefixes = extract_prefixes(train_words, max_len=4)"
   ]
  },
  {
   "cell_type": "code",
   "execution_count": 18,
   "metadata": {},
   "outputs": [
    {
     "name": "stdout",
     "output_type": "stream",
     "text": [
      "CPU times: user 11.4 s, sys: 0 ns, total: 11.4 s\n",
      "Wall time: 14.2 s\n"
     ]
    }
   ],
   "source": [
    "%%time\n",
    "suffixes = extract_suffixes(train_words, max_len=4)"
   ]
  },
  {
   "cell_type": "code",
   "execution_count": 19,
   "metadata": {},
   "outputs": [
    {
     "data": {
      "text/plain": [
       "(1306, 1104, 5647)"
      ]
     },
     "execution_count": 19,
     "metadata": {},
     "output_type": "execute_result"
    }
   ],
   "source": [
    "len(prefixes), len(suffixes), len(train_words)"
   ]
  },
  {
   "cell_type": "markdown",
   "metadata": {},
   "source": [
    "prefix, suffixとして抽出可能な最大長さを6→4にすると、大体半減する  "
   ]
  },
  {
   "cell_type": "code",
   "execution_count": 20,
   "metadata": {},
   "outputs": [
    {
     "data": {
      "text/plain": [
       "[('appointment', 'disappointment'),\n",
       " ('miss', 'dismiss'),\n",
       " ('plays', 'displays'),\n",
       " ('tribute', 'distribute'),\n",
       " ('appointed', 'disappointed'),\n",
       " ('ability', 'disability'),\n",
       " ('missed', 'dismissed'),\n",
       " ('closed', 'disclosed'),\n",
       " ('appear', 'disappear'),\n",
       " ('agree', 'disagree'),\n",
       " ('ease', 'disease'),\n",
       " ('close', 'disclose'),\n",
       " ('appearance', 'disappearance'),\n",
       " ('count', 'discount'),\n",
       " ('c', 'disc'),\n",
       " ('cover', 'discover'),\n",
       " ('placed', 'displaced')]"
      ]
     },
     "execution_count": 20,
     "metadata": {},
     "output_type": "execute_result"
    }
   ],
   "source": [
    "prefixes['dis']"
   ]
  },
  {
   "cell_type": "markdown",
   "metadata": {},
   "source": [
    "# Ruleとして格納"
   ]
  },
  {
   "cell_type": "code",
   "execution_count": 21,
   "metadata": {
    "code_folding": [
     1
    ]
   },
   "outputs": [],
   "source": [
    "# prefix, suffixでクラスを分けようかと思ったけど、wordは共通して処理する必要があるので合体させる\n",
    "class Rules:\n",
    "    def __init__(self):\n",
    "        self.n_words = 0\n",
    "        self.n_prefixes = 0\n",
    "        self.n_suffixes = 0\n",
    "        self.word2count = defaultdict(int)\n",
    "        self.prefix2count = defaultdict(int)\n",
    "        self.suffix2count = defaultdict(int)\n",
    "        self.word2index = defaultdict(int)\n",
    "        self.prefix2index = defaultdict(int)\n",
    "        self.suffix2index = defaultdict(int)\n",
    "        self.index2word = defaultdict(str)\n",
    "        self.index2prefix = defaultdict(str)\n",
    "        self.index2suffix = defaultdict(str)\n",
    "        self.word2prefixes = defaultdict(list) # key: word2, value: (prefix, word1)\n",
    "        self.word2suffixes = defaultdict(list) # key: word2, value: (suffix, word1)\n",
    "        \n",
    "    def add_prefix(self, prefix, pairs):\n",
    "        # store words\n",
    "        for word in pairs:\n",
    "            if word not in self.word2index:\n",
    "                self.word2index[word] = self.n_words\n",
    "                self.index2word[self.n_words] = word\n",
    "                self.word2count[word] = 1\n",
    "                self.n_words += 1\n",
    "            else:\n",
    "                self.word2count[word] += 1\n",
    "        # store prefix\n",
    "        if prefix not in self.prefix2index:\n",
    "            self.prefix2index[prefix] = self.n_prefixes\n",
    "            self.index2prefix[self.n_prefixes] = prefix\n",
    "            self.prefix2count[prefix] = 1\n",
    "            self.n_prefixes += 1\n",
    "        else:\n",
    "            self.prefix2count[prefix] += 1\n",
    "        \n",
    "        self.word2prefixes[pairs[1]].append((prefix, pairs[0]))\n",
    "        \n",
    "    \n",
    "    def add_prefixes(self, prefixes):\n",
    "        for prefix, pairs in prefixes.items():\n",
    "            for pair in pairs:\n",
    "                self.add_prefix(prefix, pair)\n",
    "\n",
    "    def add_suffix(self, suffix, pairs):\n",
    "        # store words\n",
    "        for word in pairs:\n",
    "            if word not in self.word2index:\n",
    "                self.word2index[word] = self.n_words\n",
    "                self.index2word[self.n_words] = word\n",
    "                self.word2count[word] = 1\n",
    "                self.n_words += 1\n",
    "            else:\n",
    "                self.word2count[word] += 1\n",
    "        # store suffix\n",
    "        if suffix not in self.suffix2index:\n",
    "            self.suffix2index[suffix] = self.n_suffixes\n",
    "            self.index2suffix[self.n_suffixes] = suffix\n",
    "            self.suffix2count[suffix] = 1\n",
    "            self.n_suffixes += 1\n",
    "        else:\n",
    "            self.suffix2count[suffix] += 1\n",
    "        \n",
    "        self.word2suffixes[pairs[1]].append((suffix, pairs[0]))\n",
    "        \n",
    "    \n",
    "    def add_suffixes(self, suffixes):\n",
    "        for suffix, pairs in suffixes.items():\n",
    "            for pair in pairs:\n",
    "                self.add_suffix(suffix, pair)\n",
    "    \n",
    "    def as_normal_dict(self):\n",
    "        # defaultdictは、存在しないkeyを参照すると自動的にvalueを生成する\n",
    "        # defaultdict(int)なら0を、defaultdict(list)なら[]を生成\n",
    "        # すると、index系が崩れてしまうので、通常のdictに変換する\n",
    "        self.word2count = dict(self.word2count)\n",
    "        self.prefix2count = dict(self.prefix2index)\n",
    "        self.suffix2count = dict(self.suffix2count)\n",
    "        self.word2index = dict(self.word2index)\n",
    "        self.prefix2index = dict(self.prefix2index)\n",
    "        self.suffix2index = dict(self.suffix2index)\n",
    "        self.index2word = dict(self.index2word)\n",
    "        self.index2prefix = dict(self.index2prefix)\n",
    "        self.index2suffix = dict(self.index2suffix)\n",
    "        self.word2prefixes = dict(self.word2prefixes)\n",
    "        self.word2suffixes = dict(self.word2suffixes)"
   ]
  },
  {
   "cell_type": "code",
   "execution_count": 22,
   "metadata": {},
   "outputs": [],
   "source": [
    "rules = Rules()"
   ]
  },
  {
   "cell_type": "code",
   "execution_count": 23,
   "metadata": {},
   "outputs": [
    {
     "name": "stdout",
     "output_type": "stream",
     "text": [
      "CPU times: user 8 ms, sys: 0 ns, total: 8 ms\n",
      "Wall time: 15 ms\n"
     ]
    }
   ],
   "source": [
    "%%time\n",
    "rules.add_prefixes(prefixes)"
   ]
  },
  {
   "cell_type": "code",
   "execution_count": 24,
   "metadata": {},
   "outputs": [
    {
     "name": "stdout",
     "output_type": "stream",
     "text": [
      "CPU times: user 16 ms, sys: 0 ns, total: 16 ms\n",
      "Wall time: 18.3 ms\n"
     ]
    }
   ],
   "source": [
    "%%time\n",
    "rules.add_suffixes(suffixes)"
   ]
  },
  {
   "cell_type": "code",
   "execution_count": 25,
   "metadata": {},
   "outputs": [],
   "source": [
    "# これ以上ruleを加えないなら、dictをlockする\n",
    "# lockする前は、存在しないkeyを参照すると自動的に空のvalueが生成される\n",
    "# lockすると、存在しないkeyを参照するとerrorを起こすようになる\n",
    "rules.as_normal_dict()"
   ]
  },
  {
   "cell_type": "code",
   "execution_count": 26,
   "metadata": {
    "scrolled": true
   },
   "outputs": [
    {
     "data": {
      "text/plain": [
       "(1306, 1104, 5647)"
      ]
     },
     "execution_count": 26,
     "metadata": {},
     "output_type": "execute_result"
    }
   ],
   "source": [
    "len(prefixes), len(suffixes), len(train_words)"
   ]
  },
  {
   "cell_type": "code",
   "execution_count": 27,
   "metadata": {},
   "outputs": [
    {
     "data": {
      "text/plain": [
       "(1306, 1104, 4394)"
      ]
     },
     "execution_count": 27,
     "metadata": {},
     "output_type": "execute_result"
    }
   ],
   "source": [
    "rules.n_prefixes, rules.n_suffixes, rules.n_words"
   ]
  },
  {
   "cell_type": "markdown",
   "metadata": {},
   "source": [
    "# validate, test_wordsをrulesに格納"
   ]
  },
  {
   "cell_type": "markdown",
   "metadata": {},
   "source": [
    "詳細は後述  \n",
    "Rules.word2suffixes, Rules.word2prefixesに, validate, test_wordsを格納していく  \n",
    "word2を、全てのword1, prefix/suffixを用いて分割出来ないか全探索する  "
   ]
  },
  {
   "cell_type": "code",
   "execution_count": 29,
   "metadata": {
    "code_folding": []
   },
   "outputs": [],
   "source": [
    "# 並列処理させないとしんどい\n",
    "def try_pref_splits(word2):\n",
    "    candidates = list()\n",
    "    for pref in rules.prefix2index.keys():\n",
    "        if not word2.startswith(pref): # wordがprefixで始まっていなかったら\n",
    "            continue # ループの先頭に戻る\n",
    "        else:\n",
    "            root = word2[len(pref):]\n",
    "            for word1 in rules.word2index.keys():\n",
    "                if root == word1:\n",
    "                    candidates.append((pref, word1))\n",
    "    if len(candidates) >= 1:\n",
    "        return {word2: candidates}\n",
    "        \n",
    "def try_suf_splits(word2):\n",
    "    candidates = list()\n",
    "    for suf in rules.suffix2index.keys():\n",
    "        if not word2.startswith(suf): # wordがsuffixで始まっていなかったら\n",
    "            continue # ループの先頭に戻る\n",
    "        else:\n",
    "            root = word2[len(suf):]\n",
    "            for word1 in rules.word2index.keys():\n",
    "                if root == word1:\n",
    "                    candidates.append((suf, word1))\n",
    "    if len(candidates) >= 1:\n",
    "        return {word2: candidates}\n",
    "\n",
    "def load_val_w_parallel(val_words):\n",
    "    p = Pool()\n",
    "    pref_dicts = p.map(try_pref_splits, val_words)\n",
    "    [rules.word2prefixes.update(dict_) for dict_ in pref_dicts if dict_ is not None]\n",
    "    \n",
    "    suf_dicts = p.map(try_suf_splits, val_words)\n",
    "    [rules.word2suffixes.update(dict_) for dict_ in suf_dicts if dict_ is not None]"
   ]
  },
  {
   "cell_type": "code",
   "execution_count": 30,
   "metadata": {},
   "outputs": [
    {
     "name": "stderr",
     "output_type": "stream",
     "text": [
      "Process ForkPoolWorker-3:\n",
      "Process ForkPoolWorker-2:\n",
      "Traceback (most recent call last):\n",
      "Process ForkPoolWorker-1:\n",
      "Traceback (most recent call last):\n",
      "  File \"/home/ubuntu/anaconda3/envs/pytorch_p36/lib/python3.6/multiprocessing/process.py\", line 258, in _bootstrap\n",
      "    self.run()\n",
      "Process ForkPoolWorker-4:\n",
      "Traceback (most recent call last):\n",
      "  File \"/home/ubuntu/anaconda3/envs/pytorch_p36/lib/python3.6/multiprocessing/process.py\", line 258, in _bootstrap\n",
      "    self.run()\n",
      "  File \"/home/ubuntu/anaconda3/envs/pytorch_p36/lib/python3.6/multiprocessing/process.py\", line 93, in run\n",
      "    self._target(*self._args, **self._kwargs)\n",
      "  File \"/home/ubuntu/anaconda3/envs/pytorch_p36/lib/python3.6/multiprocessing/process.py\", line 93, in run\n",
      "    self._target(*self._args, **self._kwargs)\n",
      "  File \"/home/ubuntu/anaconda3/envs/pytorch_p36/lib/python3.6/multiprocessing/pool.py\", line 108, in worker\n",
      "    task = get()\n",
      "Traceback (most recent call last):\n",
      "  File \"/home/ubuntu/anaconda3/envs/pytorch_p36/lib/python3.6/multiprocessing/process.py\", line 258, in _bootstrap\n",
      "    self.run()\n",
      "  File \"/home/ubuntu/anaconda3/envs/pytorch_p36/lib/python3.6/multiprocessing/queues.py\", line 334, in get\n",
      "    with self._rlock:\n",
      "  File \"/home/ubuntu/anaconda3/envs/pytorch_p36/lib/python3.6/multiprocessing/synchronize.py\", line 96, in __enter__\n",
      "    return self._semlock.__enter__()\n",
      "KeyboardInterrupt\n",
      "  File \"/home/ubuntu/anaconda3/envs/pytorch_p36/lib/python3.6/multiprocessing/process.py\", line 258, in _bootstrap\n",
      "    self.run()\n",
      "  File \"/home/ubuntu/anaconda3/envs/pytorch_p36/lib/python3.6/multiprocessing/process.py\", line 93, in run\n",
      "    self._target(*self._args, **self._kwargs)\n",
      "  File \"/home/ubuntu/anaconda3/envs/pytorch_p36/lib/python3.6/multiprocessing/pool.py\", line 108, in worker\n",
      "    task = get()\n",
      "  File \"/home/ubuntu/anaconda3/envs/pytorch_p36/lib/python3.6/multiprocessing/queues.py\", line 334, in get\n",
      "    with self._rlock:\n",
      "  File \"/home/ubuntu/anaconda3/envs/pytorch_p36/lib/python3.6/multiprocessing/pool.py\", line 108, in worker\n",
      "    task = get()\n",
      "  File \"/home/ubuntu/anaconda3/envs/pytorch_p36/lib/python3.6/multiprocessing/process.py\", line 93, in run\n",
      "    self._target(*self._args, **self._kwargs)\n",
      "  File \"/home/ubuntu/anaconda3/envs/pytorch_p36/lib/python3.6/multiprocessing/queues.py\", line 334, in get\n",
      "    with self._rlock:\n",
      "  File \"/home/ubuntu/anaconda3/envs/pytorch_p36/lib/python3.6/multiprocessing/synchronize.py\", line 96, in __enter__\n",
      "    return self._semlock.__enter__()\n",
      "  File \"/home/ubuntu/anaconda3/envs/pytorch_p36/lib/python3.6/multiprocessing/pool.py\", line 108, in worker\n",
      "    task = get()\n",
      "  File \"/home/ubuntu/anaconda3/envs/pytorch_p36/lib/python3.6/multiprocessing/synchronize.py\", line 96, in __enter__\n",
      "    return self._semlock.__enter__()\n",
      "KeyboardInterrupt\n",
      "KeyboardInterrupt\n",
      "  File \"/home/ubuntu/anaconda3/envs/pytorch_p36/lib/python3.6/multiprocessing/queues.py\", line 335, in get\n",
      "    res = self._reader.recv_bytes()\n",
      "  File \"/home/ubuntu/anaconda3/envs/pytorch_p36/lib/python3.6/multiprocessing/connection.py\", line 216, in recv_bytes\n",
      "    buf = self._recv_bytes(maxlength)\n",
      "  File \"/home/ubuntu/anaconda3/envs/pytorch_p36/lib/python3.6/multiprocessing/connection.py\", line 407, in _recv_bytes\n",
      "    buf = self._recv(4)\n",
      "  File \"/home/ubuntu/anaconda3/envs/pytorch_p36/lib/python3.6/multiprocessing/connection.py\", line 379, in _recv\n",
      "    chunk = read(handle, remaining)\n",
      "KeyboardInterrupt\n"
     ]
    }
   ],
   "source": [
    "load_val_w_parallel(validate_words)"
   ]
  },
  {
   "cell_type": "code",
   "execution_count": 31,
   "metadata": {},
   "outputs": [
    {
     "name": "stderr",
     "output_type": "stream",
     "text": [
      "Process ForkPoolWorker-7:\n",
      "Process ForkPoolWorker-6:\n",
      "Process ForkPoolWorker-8:\n",
      "Process ForkPoolWorker-5:\n",
      "KeyboardInterrupt\n",
      "Traceback (most recent call last):\n",
      "  File \"/home/ubuntu/anaconda3/envs/pytorch_p36/lib/python3.6/multiprocessing/process.py\", line 258, in _bootstrap\n",
      "    self.run()\n",
      "  File \"/home/ubuntu/anaconda3/envs/pytorch_p36/lib/python3.6/multiprocessing/process.py\", line 93, in run\n",
      "    self._target(*self._args, **self._kwargs)\n",
      "  File \"/home/ubuntu/anaconda3/envs/pytorch_p36/lib/python3.6/multiprocessing/pool.py\", line 108, in worker\n",
      "    task = get()\n",
      "  File \"/home/ubuntu/anaconda3/envs/pytorch_p36/lib/python3.6/multiprocessing/queues.py\", line 334, in get\n",
      "    with self._rlock:\n",
      "  File \"/home/ubuntu/anaconda3/envs/pytorch_p36/lib/python3.6/multiprocessing/synchronize.py\", line 96, in __enter__\n",
      "    return self._semlock.__enter__()\n",
      "Traceback (most recent call last):\n",
      "Traceback (most recent call last):\n",
      "Traceback (most recent call last):\n",
      "  File \"/home/ubuntu/anaconda3/envs/pytorch_p36/lib/python3.6/multiprocessing/process.py\", line 258, in _bootstrap\n",
      "    self.run()\n",
      "  File \"/home/ubuntu/anaconda3/envs/pytorch_p36/lib/python3.6/multiprocessing/process.py\", line 258, in _bootstrap\n",
      "    self.run()\n",
      "  File \"/home/ubuntu/anaconda3/envs/pytorch_p36/lib/python3.6/multiprocessing/process.py\", line 258, in _bootstrap\n",
      "    self.run()\n",
      "  File \"/home/ubuntu/anaconda3/envs/pytorch_p36/lib/python3.6/multiprocessing/process.py\", line 93, in run\n",
      "    self._target(*self._args, **self._kwargs)\n",
      "  File \"/home/ubuntu/anaconda3/envs/pytorch_p36/lib/python3.6/multiprocessing/pool.py\", line 108, in worker\n",
      "    task = get()\n",
      "  File \"/home/ubuntu/anaconda3/envs/pytorch_p36/lib/python3.6/multiprocessing/process.py\", line 93, in run\n",
      "    self._target(*self._args, **self._kwargs)\n",
      "  File \"/home/ubuntu/anaconda3/envs/pytorch_p36/lib/python3.6/multiprocessing/queues.py\", line 334, in get\n",
      "    with self._rlock:\n",
      "  File \"/home/ubuntu/anaconda3/envs/pytorch_p36/lib/python3.6/multiprocessing/synchronize.py\", line 96, in __enter__\n",
      "    return self._semlock.__enter__()\n",
      "KeyboardInterrupt\n",
      "  File \"/home/ubuntu/anaconda3/envs/pytorch_p36/lib/python3.6/multiprocessing/pool.py\", line 108, in worker\n",
      "    task = get()\n",
      "  File \"/home/ubuntu/anaconda3/envs/pytorch_p36/lib/python3.6/multiprocessing/process.py\", line 93, in run\n",
      "    self._target(*self._args, **self._kwargs)\n",
      "  File \"/home/ubuntu/anaconda3/envs/pytorch_p36/lib/python3.6/multiprocessing/queues.py\", line 335, in get\n",
      "    res = self._reader.recv_bytes()\n",
      "  File \"/home/ubuntu/anaconda3/envs/pytorch_p36/lib/python3.6/multiprocessing/connection.py\", line 407, in _recv_bytes\n",
      "    buf = self._recv(4)\n",
      "  File \"/home/ubuntu/anaconda3/envs/pytorch_p36/lib/python3.6/multiprocessing/connection.py\", line 216, in recv_bytes\n",
      "    buf = self._recv_bytes(maxlength)\n",
      "  File \"/home/ubuntu/anaconda3/envs/pytorch_p36/lib/python3.6/multiprocessing/pool.py\", line 108, in worker\n",
      "    task = get()\n",
      "  File \"/home/ubuntu/anaconda3/envs/pytorch_p36/lib/python3.6/multiprocessing/queues.py\", line 334, in get\n",
      "    with self._rlock:\n",
      "  File \"/home/ubuntu/anaconda3/envs/pytorch_p36/lib/python3.6/multiprocessing/connection.py\", line 379, in _recv\n",
      "    chunk = read(handle, remaining)\n",
      "  File \"/home/ubuntu/anaconda3/envs/pytorch_p36/lib/python3.6/multiprocessing/synchronize.py\", line 96, in __enter__\n",
      "    return self._semlock.__enter__()\n",
      "KeyboardInterrupt\n",
      "KeyboardInterrupt\n"
     ]
    }
   ],
   "source": [
    "load_val_w_parallel(test_words)"
   ]
  },
  {
   "cell_type": "markdown",
   "metadata": {},
   "source": [
    "# RuleからTensorに変換"
   ]
  },
  {
   "cell_type": "code",
   "execution_count": 32,
   "metadata": {},
   "outputs": [],
   "source": [
    "def tensor_from_word(word):\n",
    "    return torch.from_numpy(embedding[word]).view(1, -1).to(device)"
   ]
  },
  {
   "cell_type": "code",
   "execution_count": 33,
   "metadata": {},
   "outputs": [],
   "source": [
    "def tensors_from_pair(pair):\n",
    "    input_tensor = tensor_from_word(pair[0])\n",
    "    target_tensor = tensor_from_word(pair[1])\n",
    "    return input_tensor, target_tensor"
   ]
  },
  {
   "cell_type": "code",
   "execution_count": 34,
   "metadata": {
    "code_folding": []
   },
   "outputs": [],
   "source": [
    "def tensor_from_prefix(prefix):\n",
    "    idx = rules.prefix2index[prefix]\n",
    "    output = torch.LongTensor([idx]).to(device)\n",
    "    return output"
   ]
  },
  {
   "cell_type": "code",
   "execution_count": 35,
   "metadata": {},
   "outputs": [],
   "source": [
    "def tensor_from_suffix(suffix):\n",
    "    idx = rules.suffix2index[suffix]\n",
    "    output = torch.LongTensor([idx]).to(device)\n",
    "    return output"
   ]
  },
  {
   "cell_type": "code",
   "execution_count": 36,
   "metadata": {
    "scrolled": true
   },
   "outputs": [
    {
     "data": {
      "text/plain": [
       "tensor(167, device='cuda:0')"
      ]
     },
     "execution_count": 36,
     "metadata": {},
     "output_type": "execute_result"
    }
   ],
   "source": [
    "sum(tensor_from_prefix('dis'))"
   ]
  },
  {
   "cell_type": "markdown",
   "metadata": {},
   "source": [
    "# 単語から分割候補を抽出"
   ]
  },
  {
   "cell_type": "code",
   "execution_count": 37,
   "metadata": {
    "code_folding": []
   },
   "outputs": [],
   "source": [
    "def get_candidate_prefixes(word):\n",
    "    ''' 単語を入力すると語頭分割候補を返す、rulesを予め作成する必要あり'''\n",
    "    try:\n",
    "        prefixes = rules.word2prefixes[word]\n",
    "    except: # エラーが発生した場合(ここでは対応するvalueが無い事を想定)\n",
    "        return False\n",
    "    else: # 分割候補が帰ってきた場合\n",
    "        return prefixes"
   ]
  },
  {
   "cell_type": "code",
   "execution_count": 38,
   "metadata": {
    "code_folding": [
     0
    ]
   },
   "outputs": [],
   "source": [
    "def get_candidate_suffixes(word):\n",
    "    ''' 単語を入力すると語頭分割候補を返す、rulesを予め作成する必要あり'''\n",
    "    try:\n",
    "        suffixes = rules.word2suffixes[word]\n",
    "    except: # エラーが発生した場合(ここでは対応するvalueが無い事を想定)\n",
    "        return False\n",
    "    else: # 分割候補が帰ってきた場合\n",
    "        return suffixes"
   ]
  },
  {
   "cell_type": "code",
   "execution_count": 39,
   "metadata": {
    "code_folding": []
   },
   "outputs": [
    {
     "name": "stdout",
     "output_type": "stream",
     "text": [
      "True\n",
      "[('si', 'x')]\n",
      "[('x', 'six'), ('t', 'sit')]\n",
      "\n",
      "True\n",
      "False\n"
     ]
    }
   ],
   "source": [
    "# 使用例\n",
    "print('six' in normalized_words) # embeddingに入っているかチェック\n",
    "print(get_candidate_prefixes('six')) # prefixで分割する候補を調べる\n",
    "print(prefixes['si']) # 分割手法が見つかったので、同様の手法が適用出来る文字を調べる\n",
    "\n",
    "print('')\n",
    "\n",
    "print('sell' in normalized_words) # embeddingに入っているかチェック\n",
    "print(get_candidate_prefixes('sell')) # 分割する候補が無い場合の挙動"
   ]
  },
  {
   "cell_type": "code",
   "execution_count": 40,
   "metadata": {
    "code_folding": [
     0
    ]
   },
   "outputs": [],
   "source": [
    "def candidate_prefix_tensors_from_word(word):\n",
    "    prefixes = get_candidate_prefixes(word)\n",
    "    if prefixes is False:\n",
    "        print('分割候補がありません')\n",
    "        return False\n",
    "    else:\n",
    "        candidates = list()\n",
    "        for c in prefixes:\n",
    "            prefix_tensor = tensor_from_prefix(c[0])\n",
    "            word_tensor = tensor_from_word(c[1])\n",
    "            candidates.append((prefix_tensor, word_tensor))\n",
    "        return candidates"
   ]
  },
  {
   "cell_type": "code",
   "execution_count": 41,
   "metadata": {
    "code_folding": [
     0
    ]
   },
   "outputs": [],
   "source": [
    "def candidate_suffix_tensors_from_word(word):\n",
    "    suffixes = get_candidate_suffixes(word)\n",
    "    if suffixes is False:\n",
    "        print('分割候補がありません')\n",
    "        return False\n",
    "    else:\n",
    "        candidates = list()\n",
    "        for c in suffixes:\n",
    "            suffix_tensor = tensor_from_suffix(c[0])\n",
    "            word_tensor = tensor_from_word(c[1])\n",
    "            candidates.append((suffix_tensor, word_tensor))\n",
    "        return candidates"
   ]
  },
  {
   "cell_type": "code",
   "execution_count": 42,
   "metadata": {
    "code_folding": []
   },
   "outputs": [
    {
     "name": "stdout",
     "output_type": "stream",
     "text": [
      "全分割候補: [('s', 'user'), ('rs', 'use'), ('ers', 'us')]\n",
      "1つ目の候補のsuffixベクトルの型: torch.Size([1])\n",
      "1つ目の候補のwordベクトルの型: torch.Size([1, 300])\n",
      "分割候補数: 3\n"
     ]
    }
   ],
   "source": [
    "# 使用例\n",
    "print(\"全分割候補: {}\".format(get_candidate_suffixes('users')))\n",
    "candidates = candidate_suffix_tensors_from_word('users')\n",
    "print(\"1つ目の候補のsuffixベクトルの型: {}\".format(candidates[0][0].shape))\n",
    "print(\"1つ目の候補のwordベクトルの型: {}\".format(candidates[0][1].shape))\n",
    "print(\"分割候補数: {}\".format(len(candidates)))"
   ]
  },
  {
   "cell_type": "markdown",
   "metadata": {},
   "source": [
    "# 分割可能なtrain, validate, test_wordsを選別"
   ]
  },
  {
   "cell_type": "markdown",
   "metadata": {},
   "source": [
    "モデルの学習を行えるのは、学習・評価データに含まれる単語が分割可能な場合  \n",
    "単語が分割不可能な場合、入力に用いるprefix/suffixを準備出来ない  \n",
    "分割可能な単語群を、予め選別しておく  \n",
    "train_wordsは既に作成したruleを使えば良いが、validate, test_wordsに関しては  \n",
    "train_wordsとprefixes, suffixを使って分割出来ないか全検索する必要がある"
   ]
  },
  {
   "cell_type": "markdown",
   "metadata": {},
   "source": [
    "ここがややこしいので補足しておく  \n",
    "validation_words, test_wordsをtest_wordsと一緒にすると、leakを起こす  \n",
    "leakとは、学習用データのみを用いてモデルを構築する必要があるのに、  \n",
    "評価用データが混入する事をさす  \n",
    "評価用データに対して精度は向上するが、未知のデータに対する精度が下がる=過学習  \n",
    "\n",
    "train_wordsは全ての(word1, word2)の組み合わせからsuffix/prefixを探したが、  \n",
    "validate_words, test_wordsは既知のtrain_words, prefix/suffixを組み合わせて  \n",
    "分割を行えないか全検索する  \n",
    "\n",
    "\n",
    "モデルの学習の観点からこの操作を説明する  \n",
    "分割を行いたい単語をword2, 分割された後の単語をword1とする  \n",
    "prefix + word1 = word2  or word1 + suffix = word2  \n",
    "\n",
    "モデルの入出力は  \n",
    "modelのinput: word1_vector, prefix/suffix_vector  \n",
    "modelのoutput: word2'_vector(予測)  \n",
    "modelのtarget: words_vector(実測)  \n",
    "となる  \n",
    "\n",
    "ここで、modelはtrain_wordのみを用いて学習させる必要があるので、入力である  \n",
    "word1_vector, prefix/suffix_vectorはtrain_wordsのみから学習させる必要がある  \n",
    "一方で、modelのtargetは学習データを用いるので、  \n",
    "word2_vectorはvalidation_words, test_wordsを利用する  \n",
    "従って、モデルのvalidation, testを行いたい場合は以下の手順で評価データを準備する  \n",
    "1. train_wordsから作成したword1_vector, prefix/suffix_vectorを準備\n",
    "2. validation_words, test_wordsを1で準備したベクトルで再現出来ないか試す\n",
    "3. 再現出来た場合、input: word1, prefix/suffix, target: word2というペアが出来る  \n",
    "4. 再現出来なかった場合、その単語は捨てる(今回のモデルでは分割ナシという判断)  \n",
    "5. こうして準備したvalidation_words, test_wordsでモデルの評価を行う  \n",
    "\n",
    "**実際の処理では、rulesを作成した時に予め1-3の処理を行なっておく**  \n",
    "そのため、Rules.word2suffixes, Rule.word2prefixesのkey(上の例でいうword2に相当)  \n",
    "にはvalidation_words, test_wordsが含まれている  \n",
    "もちろん、valueである(suffix/prefix, word1)にvalidationやtestの情報は含まれていない"
   ]
  },
  {
   "cell_type": "code",
   "execution_count": 48,
   "metadata": {
    "code_folding": [
     0
    ]
   },
   "outputs": [],
   "source": [
    "class Data:\n",
    "    def __init__(self):\n",
    "        self.pref_train_words = set()\n",
    "        self.pref_validate_words = set()\n",
    "        self.pref_test_words = set()\n",
    "        self.suf_train_words = set()\n",
    "        self.suf_validate_words = set()\n",
    "        self.suf_test_words = set()\n",
    "        self.n_pref_train_words = 0\n",
    "        self.n_pref_validate_words = 0\n",
    "        self.n_pref_test_words = 0\n",
    "        self.n_suf_train_words = 0\n",
    "        self.n_suf_validate_words = 0\n",
    "        self.n_suf_test_words = 0\n",
    "    \n",
    "    def load_words(self, train_words, validate_words, test_words):\n",
    "        # preffixで分割可能なwordを格納\n",
    "        [self.pref_train_words.add(word) for word in train_words\\\n",
    "             if get_candidate_prefixes(word) is not False]\n",
    "        [self.pref_validate_words.add(word) for word in validate_words\\\n",
    "             if get_candidate_prefixes(word) is not False]\n",
    "        [self.pref_test_words.add(word) for word in test_words\\\n",
    "             if get_candidate_prefixes(word) is not False]\n",
    "        \n",
    "        # suffixで分割可能なwordを格納\n",
    "        [self.suf_train_words.add(word) for word in train_words\\\n",
    "            if get_candidate_suffixes(word) is not False]\n",
    "        [self.suf_validate_words.add(word) for word in validate_words\\\n",
    "            if get_candidate_suffixes(word) is not False]\n",
    "        [self.suf_test_words.add(word) for word in test_words\\\n",
    "            if get_candidate_suffixes(word) is not False]\n",
    "        \n",
    "        # 各単語数を格納\n",
    "        self.n_pref_train_words = len(self.pref_train_words)\n",
    "        self.n_pref_validate_words = len(self.pref_validate_words)\n",
    "        self.n_pref_test_words = len(self.pref_test_words)\n",
    "        self.n_suf_train_words = len(self.suf_train_words)\n",
    "        self.n_suf_validate_words = len(self.suf_validate_words)\n",
    "        self.n_suf_test_words = len(self.suf_test_words)"
   ]
  },
  {
   "cell_type": "code",
   "execution_count": 49,
   "metadata": {},
   "outputs": [],
   "source": [
    "data = Data()\n",
    "data.load_words(train_words, validate_words, test_words)"
   ]
  },
  {
   "cell_type": "code",
   "execution_count": 50,
   "metadata": {},
   "outputs": [
    {
     "data": {
      "text/plain": [
       "(5647, 705, 707)"
      ]
     },
     "execution_count": 50,
     "metadata": {},
     "output_type": "execute_result"
    }
   ],
   "source": [
    "len(train_words), len(validate_words), len(test_words)"
   ]
  },
  {
   "cell_type": "code",
   "execution_count": 56,
   "metadata": {},
   "outputs": [
    {
     "name": "stdout",
     "output_type": "stream",
     "text": [
      "train分割可能割合: 35.24%\n",
      "validate分割可能割合: 21.13%\n",
      "test分割可能割合: 19.66%\n"
     ]
    }
   ],
   "source": [
    "# prefixの場合、分割可能なtrain単語は4割弱\n",
    "print('train分割可能割合: {:.2f}%'.format(\n",
    "    data.n_pref_train_words / len(train_words)*100))\n",
    "\n",
    "# validate\n",
    "print('validate分割可能割合: {:.2f}%'.format(\n",
    "    data.n_pref_validate_words / len(validate_words)*100))\n",
    "\n",
    "# test\n",
    "print('test分割可能割合: {:.2f}%'.format(\n",
    "    data.n_pref_test_words / len(test_words)*100))"
   ]
  },
  {
   "cell_type": "markdown",
   "metadata": {},
   "source": [
    "trainの情報を元にvalidation, testを分割しているので、分割可能割合は下がる  "
   ]
  },
  {
   "cell_type": "markdown",
   "metadata": {},
   "source": [
    "# モデルの作成"
   ]
  },
  {
   "cell_type": "code",
   "execution_count": 57,
   "metadata": {},
   "outputs": [],
   "source": [
    "class PrefixEmbedding(nn.Module):\n",
    "    def __init__(self, word_size, prefix_size, hidden_size, output_size):\n",
    "        super(PrefixEmbedding, self).__init__()\n",
    "        self.word_size = word_size\n",
    "        self.prefix_size = prefix_size\n",
    "        self.hidden_size = hidden_size # prefix_embeddingのoutput_sizeと同義\n",
    "        self.output_size = output_size # output_size == input_sizeになる\n",
    "        \n",
    "        self.pref_emb = nn.Embedding(self.prefix_size, self.hidden_size)\n",
    "        self.affine = nn.Linear(word_size + hidden_size, output_size)\n",
    "\n",
    "    def forward(self, word, prefix):\n",
    "        hidden = self.pref_emb(prefix)\n",
    "        combined = torch.cat((word, hidden), 1)\n",
    "        output = self.affine(combined)\n",
    "        return output"
   ]
  },
  {
   "cell_type": "code",
   "execution_count": 58,
   "metadata": {},
   "outputs": [],
   "source": [
    "prefix_size = rules.n_prefixes\n",
    "hidden_size = 100\n",
    "word_size = output_size = embedding.vector_size"
   ]
  },
  {
   "cell_type": "code",
   "execution_count": 59,
   "metadata": {},
   "outputs": [],
   "source": [
    "prefix_embedding = PrefixEmbedding(word_size, prefix_size, hidden_size, output_size).to(device)"
   ]
  },
  {
   "cell_type": "markdown",
   "metadata": {},
   "source": [
    "# モデルの学習"
   ]
  },
  {
   "cell_type": "code",
   "execution_count": 60,
   "metadata": {
    "code_folding": [
     0
    ]
   },
   "outputs": [],
   "source": [
    "def train(word_tensor, prefix_tensor, target_tensor, \n",
    "          model, optimizer, criterion):\n",
    "    \n",
    "    optimizer.zero_grad() # 学習関数の初期値をリセット\n",
    "    \n",
    "    loss = 0\n",
    "    \n",
    "    output_tensor = prefix_embedding(word_tensor, prefix_tensor)\n",
    "    loss += criterion(output_tensor, target_tensor)\n",
    "    \n",
    "    loss.backward()\n",
    "    optimizer.step()\n",
    "    \n",
    "    return loss"
   ]
  },
  {
   "cell_type": "code",
   "execution_count": 61,
   "metadata": {},
   "outputs": [],
   "source": [
    "def validate(word_tensor, prefix_tensor, target_tensor, model, criterion):\n",
    "    with torch.no_grad():\n",
    "        output_tensor = prefix_embedding(word_tensor, prefix_tensor)\n",
    "        loss = criterion(output_tensor, target_tensor)\n",
    "    return loss"
   ]
  },
  {
   "cell_type": "code",
   "execution_count": 65,
   "metadata": {},
   "outputs": [],
   "source": [
    "# 超パラメータの設定\n",
    "learning_rate = 0.01\n",
    "n_iters = 100\n",
    "print_every = 10"
   ]
  },
  {
   "cell_type": "code",
   "execution_count": 66,
   "metadata": {},
   "outputs": [
    {
     "data": {
      "application/vnd.jupyter.widget-view+json": {
       "model_id": "1c8e060647964189aeba871afb25a41d",
       "version_major": 2,
       "version_minor": 0
      },
      "text/plain": [
       "HBox(children=(IntProgress(value=0), HTML(value='')))"
      ]
     },
     "metadata": {},
     "output_type": "display_data"
    },
    {
     "name": "stdout",
     "output_type": "stream",
     "text": [
      "iter: 0, train_loss:0.287, validate_loss:0.286\n",
      "iter: 10, train_loss:0.256, validate_loss:0.323\n",
      "iter: 20, train_loss:0.242, validate_loss:0.288\n",
      "iter: 30, train_loss:0.244, validate_loss:0.306\n",
      "iter: 40, train_loss:0.238, validate_loss:0.368\n",
      "iter: 50, train_loss:0.245, validate_loss:0.355\n",
      "iter: 60, train_loss:0.234, validate_loss:0.342\n",
      "iter: 70, train_loss:0.243, validate_loss:0.338\n",
      "iter: 80, train_loss:0.252, validate_loss:0.367\n",
      "iter: 90, train_loss:0.253, validate_loss:0.433\n"
     ]
    }
   ],
   "source": [
    "# prefixの学習\n",
    "optimizer = optim.Adam(prefix_embedding.parameters(), lr=learning_rate)\n",
    "criterion = nn.MSELoss()\n",
    "train_learning_curve = []\n",
    "validate_learning_curve = []\n",
    "\n",
    "for epoch in tqdm(range(n_iters)):\n",
    "    \n",
    "    train_loss_per_epoch = 0\n",
    "    val_loss_per_epoch = 0\n",
    "    # training mode\n",
    "    for tw in data.pref_train_words:\n",
    "        loss_per_tw = 0\n",
    "        target_tensor = tensor_from_word(tw)\n",
    "        candidates = candidate_prefix_tensors_from_word(tw)\n",
    "        for candidate in candidates:\n",
    "            prefix_tensor = candidate[0]\n",
    "            word_tensor = candidate[1]\n",
    "            loss = train(word_tensor, prefix_tensor, target_tensor,\n",
    "                         prefix_embedding, optimizer, criterion)\n",
    "            # 将来的には、最もlossが低い分割手法のlossのみをbackwardする\n",
    "            loss_per_tw += loss\n",
    "        loss_per_tw = loss_per_tw / len(candidates)\n",
    "        train_loss_per_epoch += loss_per_tw\n",
    "        \n",
    "    train_loss_per_epoch = train_loss_per_epoch / data.n_pref_train_words\n",
    "    train_learning_curve.append(train_loss_per_epoch)\n",
    "        \n",
    "    # validation mode\n",
    "    for vw in data.pref_validate_words:\n",
    "        loss_per_vw = list()\n",
    "        target_tensor = tensor_from_word(vw)\n",
    "        candidates = candidate_prefix_tensors_from_word(vw)\n",
    "        for candidate in candidates:\n",
    "            prefix_tensor = candidate[0]\n",
    "            word_tensor = candidate[1]\n",
    "            loss =  validate(word_tensor, prefix_tensor, target_tensor,\n",
    "                           prefix_embedding, criterion)\n",
    "            loss_per_vw.append(loss) # 最もlossが低い分割手法のlossのみを監視する\n",
    "        loss_per_vw = max(loss_per_vw)\n",
    "        val_loss_per_epoch += loss_per_vw\n",
    "    \n",
    "    val_loss_per_epoch = val_loss_per_epoch / data.n_pref_validate_words\n",
    "    validate_learning_curve.append(val_loss_per_epoch)\n",
    "    \n",
    "    if epoch % print_every == 0:\n",
    "        print('iter: {}, train_loss:{:.3f}, validate_loss:{:.3f}'.format(\n",
    "            epoch, train_loss_per_epoch, val_loss_per_epoch))"
   ]
  },
  {
   "cell_type": "code",
   "execution_count": 70,
   "metadata": {},
   "outputs": [
    {
     "data": {
      "text/plain": [
       "[<matplotlib.lines.Line2D at 0x7f76c00439e8>]"
      ]
     },
     "execution_count": 70,
     "metadata": {},
     "output_type": "execute_result"
    },
    {
     "data": {
      "image/png": "[encoded data removed]",
      "text/plain": [
       "<Figure size 432x288 with 1 Axes>"
      ]
     },
     "metadata": {},
     "output_type": "display_data"
    }
   ],
   "source": [
    "plt.plot(train_learning_curve)"
   ]
  },
  {
   "cell_type": "code",
   "execution_count": 71,
   "metadata": {},
   "outputs": [
    {
     "data": {
      "text/plain": [
       "[<matplotlib.lines.Line2D at 0x7f76b1e962b0>]"
      ]
     },
     "execution_count": 71,
     "metadata": {},
     "output_type": "execute_result"
    },
    {
     "data": {
      "image/png": "[encoded data removed]",
      "text/plain": [
       "<Figure size 432x288 with 1 Axes>"
      ]
     },
     "metadata": {},
     "output_type": "display_data"
    }
   ],
   "source": [
    "plt.plot(validate_learning_curve)"
   ]
  },
  {
   "cell_type": "markdown",
   "metadata": {},
   "source": [
    "ダメダメ"
   ]
  },
  {
   "cell_type": "code",
   "execution_count": null,
   "metadata": {},
   "outputs": [],
   "source": []
  }
 ],
 "metadata": {
  "kernelspec": {
   "display_name": "Python 3",
   "language": "python",
   "name": "python3"
  },
  "language_info": {
   "codemirror_mode": {
    "name": "ipython",
    "version": 3
   },
   "file_extension": ".py",
   "mimetype": "text/x-python",
   "name": "python",
   "nbconvert_exporter": "python",
   "pygments_lexer": "ipython3",
   "version": "3.6.5"
  }
 },
 "nbformat": 4,
 "nbformat_minor": 2
}
